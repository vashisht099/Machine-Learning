{
 "cells": [
  {
   "cell_type": "markdown",
   "id": "ac15e01e",
   "metadata": {},
   "source": [
    "# Credit Risk Analysis/Loan approval"
   ]
  },
  {
   "cell_type": "markdown",
   "id": "2af5e6ed",
   "metadata": {},
   "source": [
    "##### The purpose of Credit Risk Analysis is to determine the creditworthiness of the borrower on the basis of certain parameters financial history, repayment history. So basically it is about checking if the person is eligible to receive the amount of money he is requesting without causing any loss to the investor. \n",
    "##### CRA helps the investors to target the right customer to invest in and analyze the risk involved to make the business more profitable."
   ]
  },
  {
   "cell_type": "markdown",
   "id": "b7ebecbd",
   "metadata": {},
   "source": [
    "\n",
    "> Removing Duplicates\n",
    "> Checking for outliers and removing them\n",
    "> Use Column Transfer and Pipeline to streamline process\n",
    "> Use Randomized Search to find optimal set of parameters\n",
    "> Automate the procedure for multiple classfiers\n",
    "> checking fo over and underfitting"
   ]
  },
  {
   "cell_type": "code",
   "execution_count": 3,
   "id": "dde6e797",
   "metadata": {},
   "outputs": [],
   "source": [
    "import pandas as pd\n",
    "import numpy as np\n",
    "import matplotlib.pyplot as plt\n",
    "import seaborn as sns\n",
    "%matplotlib inline"
   ]
  },
  {
   "cell_type": "code",
   "execution_count": 4,
   "id": "511598f3",
   "metadata": {},
   "outputs": [],
   "source": [
    "from sklearn.compose import ColumnTransformer\n",
    "from sklearn.pipeline import Pipeline\n",
    "from sklearn.model_selection import train_test_split, learning_curve, RandomizedSearchCV\n",
    "from sklearn.preprocessing import OneHotEncoder, StandardScaler\n",
    "from sklearn.experimental import enable_iterative_imputer\n",
    "from sklearn.impute import IterativeImputer\n",
    "from sklearn.metrics import plot_precision_recall_curve\n",
    "from sklearn.linear_model import LinearRegression\n",
    "from sklearn.neighbors import KNeighborsRegressor\n",
    "from sklearn.ensemble import RandomForestClassifier, RandomForestRegressor\n",
    "from sklearn.metrics import plot_confusion_matrix, confusion_matrix, classification_report\n"
   ]
  },
  {
   "cell_type": "code",
   "execution_count": 5,
   "id": "bf16cc2f",
   "metadata": {},
   "outputs": [
    {
     "data": {
      "text/html": [
       "<div>\n",
       "<style scoped>\n",
       "    .dataframe tbody tr th:only-of-type {\n",
       "        vertical-align: middle;\n",
       "    }\n",
       "\n",
       "    .dataframe tbody tr th {\n",
       "        vertical-align: top;\n",
       "    }\n",
       "\n",
       "    .dataframe thead th {\n",
       "        text-align: right;\n",
       "    }\n",
       "</style>\n",
       "<table border=\"1\" class=\"dataframe\">\n",
       "  <thead>\n",
       "    <tr style=\"text-align: right;\">\n",
       "      <th></th>\n",
       "      <th>person_age</th>\n",
       "      <th>person_income</th>\n",
       "      <th>person_home_ownership</th>\n",
       "      <th>person_emp_length</th>\n",
       "      <th>loan_intent</th>\n",
       "      <th>loan_grade</th>\n",
       "      <th>loan_amnt</th>\n",
       "      <th>loan_int_rate</th>\n",
       "      <th>loan_status</th>\n",
       "      <th>loan_percent_income</th>\n",
       "      <th>cb_person_default_on_file</th>\n",
       "      <th>cb_person_cred_hist_length</th>\n",
       "    </tr>\n",
       "  </thead>\n",
       "  <tbody>\n",
       "    <tr>\n",
       "      <th>0</th>\n",
       "      <td>22</td>\n",
       "      <td>59000</td>\n",
       "      <td>RENT</td>\n",
       "      <td>123.0</td>\n",
       "      <td>PERSONAL</td>\n",
       "      <td>D</td>\n",
       "      <td>35000</td>\n",
       "      <td>16.02</td>\n",
       "      <td>1</td>\n",
       "      <td>0.59</td>\n",
       "      <td>Y</td>\n",
       "      <td>3</td>\n",
       "    </tr>\n",
       "    <tr>\n",
       "      <th>1</th>\n",
       "      <td>21</td>\n",
       "      <td>9600</td>\n",
       "      <td>OWN</td>\n",
       "      <td>5.0</td>\n",
       "      <td>EDUCATION</td>\n",
       "      <td>B</td>\n",
       "      <td>1000</td>\n",
       "      <td>11.14</td>\n",
       "      <td>0</td>\n",
       "      <td>0.10</td>\n",
       "      <td>N</td>\n",
       "      <td>2</td>\n",
       "    </tr>\n",
       "    <tr>\n",
       "      <th>2</th>\n",
       "      <td>25</td>\n",
       "      <td>9600</td>\n",
       "      <td>MORTGAGE</td>\n",
       "      <td>1.0</td>\n",
       "      <td>MEDICAL</td>\n",
       "      <td>C</td>\n",
       "      <td>5500</td>\n",
       "      <td>12.87</td>\n",
       "      <td>1</td>\n",
       "      <td>0.57</td>\n",
       "      <td>N</td>\n",
       "      <td>3</td>\n",
       "    </tr>\n",
       "    <tr>\n",
       "      <th>3</th>\n",
       "      <td>23</td>\n",
       "      <td>65500</td>\n",
       "      <td>RENT</td>\n",
       "      <td>4.0</td>\n",
       "      <td>MEDICAL</td>\n",
       "      <td>C</td>\n",
       "      <td>35000</td>\n",
       "      <td>15.23</td>\n",
       "      <td>1</td>\n",
       "      <td>0.53</td>\n",
       "      <td>N</td>\n",
       "      <td>2</td>\n",
       "    </tr>\n",
       "    <tr>\n",
       "      <th>4</th>\n",
       "      <td>24</td>\n",
       "      <td>54400</td>\n",
       "      <td>RENT</td>\n",
       "      <td>8.0</td>\n",
       "      <td>MEDICAL</td>\n",
       "      <td>C</td>\n",
       "      <td>35000</td>\n",
       "      <td>14.27</td>\n",
       "      <td>1</td>\n",
       "      <td>0.55</td>\n",
       "      <td>Y</td>\n",
       "      <td>4</td>\n",
       "    </tr>\n",
       "  </tbody>\n",
       "</table>\n",
       "</div>"
      ],
      "text/plain": [
       "   person_age  person_income person_home_ownership  person_emp_length  \\\n",
       "0          22          59000                  RENT              123.0   \n",
       "1          21           9600                   OWN                5.0   \n",
       "2          25           9600              MORTGAGE                1.0   \n",
       "3          23          65500                  RENT                4.0   \n",
       "4          24          54400                  RENT                8.0   \n",
       "\n",
       "  loan_intent loan_grade  loan_amnt  loan_int_rate  loan_status  \\\n",
       "0    PERSONAL          D      35000          16.02            1   \n",
       "1   EDUCATION          B       1000          11.14            0   \n",
       "2     MEDICAL          C       5500          12.87            1   \n",
       "3     MEDICAL          C      35000          15.23            1   \n",
       "4     MEDICAL          C      35000          14.27            1   \n",
       "\n",
       "   loan_percent_income cb_person_default_on_file  cb_person_cred_hist_length  \n",
       "0                 0.59                         Y                           3  \n",
       "1                 0.10                         N                           2  \n",
       "2                 0.57                         N                           3  \n",
       "3                 0.53                         N                           2  \n",
       "4                 0.55                         Y                           4  "
      ]
     },
     "execution_count": 5,
     "metadata": {},
     "output_type": "execute_result"
    }
   ],
   "source": [
    "df = pd.read_csv('credit_risk_dataset.csv')\n",
    "df.head()"
   ]
  },
  {
   "cell_type": "code",
   "execution_count": 6,
   "id": "2d6349c3",
   "metadata": {},
   "outputs": [
    {
     "data": {
      "text/plain": [
       "(32581, 12)"
      ]
     },
     "execution_count": 6,
     "metadata": {},
     "output_type": "execute_result"
    }
   ],
   "source": [
    "df.shape"
   ]
  },
  {
   "cell_type": "code",
   "execution_count": 7,
   "id": "df1a98cc",
   "metadata": {},
   "outputs": [],
   "source": [
    "df.drop_duplicates(inplace = True)"
   ]
  },
  {
   "cell_type": "code",
   "execution_count": 8,
   "id": "a1c65734",
   "metadata": {},
   "outputs": [
    {
     "data": {
      "text/plain": [
       "(32416, 12)"
      ]
     },
     "execution_count": 8,
     "metadata": {},
     "output_type": "execute_result"
    }
   ],
   "source": [
    "df.shape"
   ]
  },
  {
   "cell_type": "code",
   "execution_count": 9,
   "id": "a20ed437",
   "metadata": {},
   "outputs": [],
   "source": [
    "x_train,x_test,y_train,y_test = train_test_split(df.drop('loan_status',axis = 1),\n",
    "                                                        df['loan_status'],\n",
    "                                                        random_state = 0, \n",
    "                                                        test_size = 0.2,\n",
    "                                                        stratify = df['loan_status'],\n",
    "                                                        shuffle = True)"
   ]
  },
  {
   "cell_type": "code",
   "execution_count": 10,
   "id": "87deb0a1",
   "metadata": {},
   "outputs": [
    {
     "data": {
      "text/plain": [
       "0    0.781312\n",
       "1    0.218688\n",
       "Name: loan_status, dtype: float64"
      ]
     },
     "execution_count": 10,
     "metadata": {},
     "output_type": "execute_result"
    }
   ],
   "source": [
    "df['loan_status'].value_counts(normalize = True)"
   ]
  },
  {
   "cell_type": "code",
   "execution_count": 11,
   "id": "58e495e3",
   "metadata": {},
   "outputs": [
    {
     "data": {
      "text/plain": [
       "0    0.781313\n",
       "1    0.218687\n",
       "Name: loan_status, dtype: float64"
      ]
     },
     "execution_count": 11,
     "metadata": {},
     "output_type": "execute_result"
    }
   ],
   "source": [
    "y_train.value_counts(normalize = True)"
   ]
  },
  {
   "cell_type": "code",
   "execution_count": 12,
   "id": "f48e51d8",
   "metadata": {},
   "outputs": [
    {
     "data": {
      "text/plain": [
       "person_age                    0.000000\n",
       "person_income                 0.000000\n",
       "person_home_ownership         0.000000\n",
       "person_emp_length             2.799630\n",
       "loan_intent                   0.000000\n",
       "loan_grade                    0.000000\n",
       "loan_amnt                     0.000000\n",
       "loan_int_rate                 9.613605\n",
       "loan_percent_income           0.000000\n",
       "cb_person_default_on_file     0.000000\n",
       "cb_person_cred_hist_length    0.000000\n",
       "dtype: float64"
      ]
     },
     "execution_count": 12,
     "metadata": {},
     "output_type": "execute_result"
    }
   ],
   "source": [
    "x_train.isna().sum()*100/x_train.shape[0]"
   ]
  },
  {
   "cell_type": "code",
   "execution_count": 13,
   "id": "03b5ab7c",
   "metadata": {},
   "outputs": [
    {
     "data": {
      "text/plain": [
       "(25932, 11)"
      ]
     },
     "execution_count": 13,
     "metadata": {},
     "output_type": "execute_result"
    }
   ],
   "source": [
    "x_train.shape"
   ]
  },
  {
   "cell_type": "code",
   "execution_count": 14,
   "id": "eaaafbeb",
   "metadata": {},
   "outputs": [
    {
     "data": {
      "text/plain": [
       "(22763, 11)"
      ]
     },
     "execution_count": 14,
     "metadata": {},
     "output_type": "execute_result"
    }
   ],
   "source": [
    "x_train.dropna().shape"
   ]
  },
  {
   "cell_type": "code",
   "execution_count": 15,
   "id": "635e016a",
   "metadata": {},
   "outputs": [
    {
     "data": {
      "text/plain": [
       "0.12220422643837729"
      ]
     },
     "execution_count": 15,
     "metadata": {},
     "output_type": "execute_result"
    }
   ],
   "source": [
    "(25932-22763)/25932"
   ]
  },
  {
   "cell_type": "code",
   "execution_count": 16,
   "id": "a52bcd26",
   "metadata": {},
   "outputs": [],
   "source": [
    "#12 % of the values are getting removed"
   ]
  },
  {
   "cell_type": "code",
   "execution_count": 17,
   "id": "c63bc2bd",
   "metadata": {},
   "outputs": [
    {
     "data": {
      "text/html": [
       "<div>\n",
       "<style scoped>\n",
       "    .dataframe tbody tr th:only-of-type {\n",
       "        vertical-align: middle;\n",
       "    }\n",
       "\n",
       "    .dataframe tbody tr th {\n",
       "        vertical-align: top;\n",
       "    }\n",
       "\n",
       "    .dataframe thead th {\n",
       "        text-align: right;\n",
       "    }\n",
       "</style>\n",
       "<table border=\"1\" class=\"dataframe\">\n",
       "  <thead>\n",
       "    <tr style=\"text-align: right;\">\n",
       "      <th></th>\n",
       "      <th>person_income</th>\n",
       "      <th>loan_amnt</th>\n",
       "      <th>loan_percent_income</th>\n",
       "    </tr>\n",
       "  </thead>\n",
       "  <tbody>\n",
       "    <tr>\n",
       "      <th>21415</th>\n",
       "      <td>48000</td>\n",
       "      <td>10000</td>\n",
       "      <td>0.21</td>\n",
       "    </tr>\n",
       "    <tr>\n",
       "      <th>12916</th>\n",
       "      <td>85000</td>\n",
       "      <td>7500</td>\n",
       "      <td>0.09</td>\n",
       "    </tr>\n",
       "    <tr>\n",
       "      <th>2938</th>\n",
       "      <td>125000</td>\n",
       "      <td>3000</td>\n",
       "      <td>0.02</td>\n",
       "    </tr>\n",
       "    <tr>\n",
       "      <th>19114</th>\n",
       "      <td>62000</td>\n",
       "      <td>2300</td>\n",
       "      <td>0.04</td>\n",
       "    </tr>\n",
       "    <tr>\n",
       "      <th>6057</th>\n",
       "      <td>48000</td>\n",
       "      <td>4200</td>\n",
       "      <td>0.09</td>\n",
       "    </tr>\n",
       "  </tbody>\n",
       "</table>\n",
       "</div>"
      ],
      "text/plain": [
       "       person_income  loan_amnt  loan_percent_income\n",
       "21415          48000      10000                 0.21\n",
       "12916          85000       7500                 0.09\n",
       "2938          125000       3000                 0.02\n",
       "19114          62000       2300                 0.04\n",
       "6057           48000       4200                 0.09"
      ]
     },
     "execution_count": 17,
     "metadata": {},
     "output_type": "execute_result"
    }
   ],
   "source": [
    "x_train[['person_income', 'loan_amnt', 'loan_percent_income']].head()"
   ]
  },
  {
   "cell_type": "code",
   "execution_count": 18,
   "id": "a7247fd5",
   "metadata": {},
   "outputs": [],
   "source": [
    "x_train.drop('loan_percent_income', axis=1, inplace=True)\n",
    "x_test.drop('loan_percent_income', axis=1, inplace=True)"
   ]
  },
  {
   "cell_type": "code",
   "execution_count": 19,
   "id": "642f0e3c",
   "metadata": {},
   "outputs": [
    {
     "name": "stdout",
     "output_type": "stream",
     "text": [
      "person_age >> 58\n",
      "\n",
      "person_income >> 3680\n",
      "\n",
      "person_home_ownership >> 4\n",
      "RENT        50.320068\n",
      "MORTGAGE    41.439149\n",
      "OWN          7.916859\n",
      "OTHER        0.323924\n",
      "Name: person_home_ownership, dtype: float64\n",
      "\n",
      "person_emp_length >> 36\n",
      "\n",
      "loan_intent >> 6\n",
      "EDUCATION            19.809502\n",
      "MEDICAL              18.787598\n",
      "VENTURE              17.542033\n",
      "PERSONAL             16.878760\n",
      "DEBTCONSOLIDATION    15.968687\n",
      "HOMEIMPROVEMENT      11.013420\n",
      "Name: loan_intent, dtype: float64\n",
      "\n",
      "loan_grade >> 7\n",
      "A    32.932284\n",
      "B    32.126330\n",
      "C    19.902052\n",
      "D    11.121394\n",
      "E     3.004010\n",
      "F     0.732685\n",
      "G     0.181243\n",
      "Name: loan_grade, dtype: float64\n",
      "\n",
      "loan_amnt >> 710\n",
      "\n",
      "loan_int_rate >> 346\n",
      "\n",
      "cb_person_default_on_file >> 2\n",
      "N    82.392411\n",
      "Y    17.607589\n",
      "Name: cb_person_default_on_file, dtype: float64\n",
      "\n",
      "cb_person_cred_hist_length >> 29\n",
      "\n"
     ]
    }
   ],
   "source": [
    "for col in x_train:\n",
    "    print(col, '>>',x_train[col].nunique())\n",
    "    if x_train[col].nunique()<20:\n",
    "        print(x_train[col].value_counts(normalize = True)*100)\n",
    "    print()"
   ]
  },
  {
   "cell_type": "code",
   "execution_count": 20,
   "id": "d3db81c2",
   "metadata": {},
   "outputs": [
    {
     "data": {
      "text/html": [
       "<div>\n",
       "<style scoped>\n",
       "    .dataframe tbody tr th:only-of-type {\n",
       "        vertical-align: middle;\n",
       "    }\n",
       "\n",
       "    .dataframe tbody tr th {\n",
       "        vertical-align: top;\n",
       "    }\n",
       "\n",
       "    .dataframe thead th {\n",
       "        text-align: right;\n",
       "    }\n",
       "</style>\n",
       "<table border=\"1\" class=\"dataframe\">\n",
       "  <thead>\n",
       "    <tr style=\"text-align: right;\">\n",
       "      <th></th>\n",
       "      <th>person_age</th>\n",
       "      <th>person_income</th>\n",
       "      <th>person_emp_length</th>\n",
       "      <th>loan_amnt</th>\n",
       "      <th>loan_int_rate</th>\n",
       "      <th>cb_person_cred_hist_length</th>\n",
       "    </tr>\n",
       "  </thead>\n",
       "  <tbody>\n",
       "    <tr>\n",
       "      <th>count</th>\n",
       "      <td>25932.000000</td>\n",
       "      <td>2.593200e+04</td>\n",
       "      <td>25206.000000</td>\n",
       "      <td>25932.000000</td>\n",
       "      <td>23439.000000</td>\n",
       "      <td>25932.000000</td>\n",
       "    </tr>\n",
       "    <tr>\n",
       "      <th>mean</th>\n",
       "      <td>27.721155</td>\n",
       "      <td>6.589884e+04</td>\n",
       "      <td>4.811315</td>\n",
       "      <td>9611.395187</td>\n",
       "      <td>11.013784</td>\n",
       "      <td>5.793460</td>\n",
       "    </tr>\n",
       "    <tr>\n",
       "      <th>std</th>\n",
       "      <td>6.382311</td>\n",
       "      <td>6.333831e+04</td>\n",
       "      <td>4.172822</td>\n",
       "      <td>6339.054572</td>\n",
       "      <td>3.240104</td>\n",
       "      <td>4.052297</td>\n",
       "    </tr>\n",
       "    <tr>\n",
       "      <th>min</th>\n",
       "      <td>20.000000</td>\n",
       "      <td>4.000000e+03</td>\n",
       "      <td>0.000000</td>\n",
       "      <td>500.000000</td>\n",
       "      <td>5.420000</td>\n",
       "      <td>2.000000</td>\n",
       "    </tr>\n",
       "    <tr>\n",
       "      <th>25%</th>\n",
       "      <td>23.000000</td>\n",
       "      <td>3.849500e+04</td>\n",
       "      <td>2.000000</td>\n",
       "      <td>5000.000000</td>\n",
       "      <td>7.900000</td>\n",
       "      <td>3.000000</td>\n",
       "    </tr>\n",
       "    <tr>\n",
       "      <th>50%</th>\n",
       "      <td>26.000000</td>\n",
       "      <td>5.500000e+04</td>\n",
       "      <td>4.000000</td>\n",
       "      <td>8000.000000</td>\n",
       "      <td>10.990000</td>\n",
       "      <td>4.000000</td>\n",
       "    </tr>\n",
       "    <tr>\n",
       "      <th>75%</th>\n",
       "      <td>30.000000</td>\n",
       "      <td>7.900000e+04</td>\n",
       "      <td>7.000000</td>\n",
       "      <td>12250.000000</td>\n",
       "      <td>13.480000</td>\n",
       "      <td>8.000000</td>\n",
       "    </tr>\n",
       "    <tr>\n",
       "      <th>max</th>\n",
       "      <td>144.000000</td>\n",
       "      <td>6.000000e+06</td>\n",
       "      <td>123.000000</td>\n",
       "      <td>35000.000000</td>\n",
       "      <td>23.220000</td>\n",
       "      <td>30.000000</td>\n",
       "    </tr>\n",
       "  </tbody>\n",
       "</table>\n",
       "</div>"
      ],
      "text/plain": [
       "         person_age  person_income  person_emp_length     loan_amnt  \\\n",
       "count  25932.000000   2.593200e+04       25206.000000  25932.000000   \n",
       "mean      27.721155   6.589884e+04           4.811315   9611.395187   \n",
       "std        6.382311   6.333831e+04           4.172822   6339.054572   \n",
       "min       20.000000   4.000000e+03           0.000000    500.000000   \n",
       "25%       23.000000   3.849500e+04           2.000000   5000.000000   \n",
       "50%       26.000000   5.500000e+04           4.000000   8000.000000   \n",
       "75%       30.000000   7.900000e+04           7.000000  12250.000000   \n",
       "max      144.000000   6.000000e+06         123.000000  35000.000000   \n",
       "\n",
       "       loan_int_rate  cb_person_cred_hist_length  \n",
       "count   23439.000000                25932.000000  \n",
       "mean       11.013784                    5.793460  \n",
       "std         3.240104                    4.052297  \n",
       "min         5.420000                    2.000000  \n",
       "25%         7.900000                    3.000000  \n",
       "50%        10.990000                    4.000000  \n",
       "75%        13.480000                    8.000000  \n",
       "max        23.220000                   30.000000  "
      ]
     },
     "execution_count": 20,
     "metadata": {},
     "output_type": "execute_result"
    }
   ],
   "source": [
    "x_train.describe()"
   ]
  },
  {
   "cell_type": "code",
   "execution_count": 21,
   "id": "14444bd1",
   "metadata": {},
   "outputs": [
    {
     "name": "stdout",
     "output_type": "stream",
     "text": [
      "<class 'pandas.core.frame.DataFrame'>\n",
      "Int64Index: 25932 entries, 21415 to 6848\n",
      "Data columns (total 10 columns):\n",
      " #   Column                      Non-Null Count  Dtype  \n",
      "---  ------                      --------------  -----  \n",
      " 0   person_age                  25932 non-null  int64  \n",
      " 1   person_income               25932 non-null  int64  \n",
      " 2   person_home_ownership       25932 non-null  object \n",
      " 3   person_emp_length           25206 non-null  float64\n",
      " 4   loan_intent                 25932 non-null  object \n",
      " 5   loan_grade                  25932 non-null  object \n",
      " 6   loan_amnt                   25932 non-null  int64  \n",
      " 7   loan_int_rate               23439 non-null  float64\n",
      " 8   cb_person_default_on_file   25932 non-null  object \n",
      " 9   cb_person_cred_hist_length  25932 non-null  int64  \n",
      "dtypes: float64(2), int64(4), object(4)\n",
      "memory usage: 2.2+ MB\n"
     ]
    }
   ],
   "source": [
    "x_train.info()"
   ]
  },
  {
   "cell_type": "code",
   "execution_count": 22,
   "id": "801b2a19",
   "metadata": {},
   "outputs": [
    {
     "data": {
      "text/plain": [
       "['person_age',\n",
       " 'person_income',\n",
       " 'person_emp_length',\n",
       " 'loan_amnt',\n",
       " 'loan_int_rate',\n",
       " 'cb_person_cred_hist_length']"
      ]
     },
     "execution_count": 22,
     "metadata": {},
     "output_type": "execute_result"
    }
   ],
   "source": [
    "numerical_features = [feature for feature in x_train if x_train[feature].dtypes != 'O']\n",
    "numerical_features"
   ]
  },
  {
   "cell_type": "code",
   "execution_count": 23,
   "id": "4ff24699",
   "metadata": {},
   "outputs": [
    {
     "data": {
      "image/png": "[encoded data removed]",
      "text/plain": [
       "<Figure size 432x288 with 1 Axes>"
      ]
     },
     "metadata": {
      "needs_background": "light"
     },
     "output_type": "display_data"
    },
    {
     "data": {
      "image/png": "[encoded data removed]",
      "text/plain": [
       "<Figure size 432x288 with 1 Axes>"
      ]
     },
     "metadata": {
      "needs_background": "light"
     },
     "output_type": "display_data"
    },
    {
     "data": {
      "image/png": "[encoded data removed]",
      "text/plain": [
       "<Figure size 432x288 with 1 Axes>"
      ]
     },
     "metadata": {
      "needs_background": "light"
     },
     "output_type": "display_data"
    },
    {
     "data": {
      "image/png": "[encoded data removed]",
      "text/plain": [
       "<Figure size 432x288 with 1 Axes>"
      ]
     },
     "metadata": {
      "needs_background": "light"
     },
     "output_type": "display_data"
    },
    {
     "data": {
      "image/png": "[encoded data removed]",
      "text/plain": [
       "<Figure size 432x288 with 1 Axes>"
      ]
     },
     "metadata": {
      "needs_background": "light"
     },
     "output_type": "display_data"
    },
    {
     "data": {
      "image/png": "[encoded data removed]",
      "text/plain": [
       "<Figure size 432x288 with 1 Axes>"
      ]
     },
     "metadata": {
      "needs_background": "light"
     },
     "output_type": "display_data"
    }
   ],
   "source": [
    "for feature in numerical_features:\n",
    "    sns.histplot(x_train[feature])\n",
    "    plt.show()"
   ]
  },
  {
   "cell_type": "code",
   "execution_count": 28,
   "id": "ae95776c",
   "metadata": {},
   "outputs": [
    {
     "data": {
      "text/html": [
       "<div>\n",
       "<style scoped>\n",
       "    .dataframe tbody tr th:only-of-type {\n",
       "        vertical-align: middle;\n",
       "    }\n",
       "\n",
       "    .dataframe tbody tr th {\n",
       "        vertical-align: top;\n",
       "    }\n",
       "\n",
       "    .dataframe thead th {\n",
       "        text-align: right;\n",
       "    }\n",
       "</style>\n",
       "<table border=\"1\" class=\"dataframe\">\n",
       "  <thead>\n",
       "    <tr style=\"text-align: right;\">\n",
       "      <th></th>\n",
       "      <th>person_age</th>\n",
       "      <th>person_income</th>\n",
       "      <th>person_home_ownership</th>\n",
       "      <th>person_emp_length</th>\n",
       "      <th>loan_intent</th>\n",
       "      <th>loan_grade</th>\n",
       "      <th>loan_amnt</th>\n",
       "      <th>loan_int_rate</th>\n",
       "      <th>cb_person_default_on_file</th>\n",
       "      <th>cb_person_cred_hist_length</th>\n",
       "    </tr>\n",
       "  </thead>\n",
       "  <tbody>\n",
       "  </tbody>\n",
       "</table>\n",
       "</div>"
      ],
      "text/plain": [
       "Empty DataFrame\n",
       "Columns: [person_age, person_income, person_home_ownership, person_emp_length, loan_intent, loan_grade, loan_amnt, loan_int_rate, cb_person_default_on_file, cb_person_cred_hist_length]\n",
       "Index: []"
      ]
     },
     "execution_count": 28,
     "metadata": {},
     "output_type": "execute_result"
    }
   ],
   "source": [
    "x_train.loc[x_train['person_age']>=80,:]"
   ]
  },
  {
   "cell_type": "code",
   "execution_count": 29,
   "id": "c8ef2c8c",
   "metadata": {},
   "outputs": [],
   "source": [
    "x_train = x_train.loc[x_train['person_age']<80,:]"
   ]
  },
  {
   "cell_type": "code",
   "execution_count": 30,
   "id": "361869a7",
   "metadata": {},
   "outputs": [
    {
     "data": {
      "text/plain": [
       "(25924, 10)"
      ]
     },
     "execution_count": 30,
     "metadata": {},
     "output_type": "execute_result"
    }
   ],
   "source": [
    "x_train.shape"
   ]
  },
  {
   "cell_type": "code",
   "execution_count": 31,
   "id": "d71f5e90",
   "metadata": {},
   "outputs": [
    {
     "data": {
      "text/html": [
       "<div>\n",
       "<style scoped>\n",
       "    .dataframe tbody tr th:only-of-type {\n",
       "        vertical-align: middle;\n",
       "    }\n",
       "\n",
       "    .dataframe tbody tr th {\n",
       "        vertical-align: top;\n",
       "    }\n",
       "\n",
       "    .dataframe thead th {\n",
       "        text-align: right;\n",
       "    }\n",
       "</style>\n",
       "<table border=\"1\" class=\"dataframe\">\n",
       "  <thead>\n",
       "    <tr style=\"text-align: right;\">\n",
       "      <th></th>\n",
       "      <th>person_age</th>\n",
       "      <th>person_income</th>\n",
       "      <th>person_home_ownership</th>\n",
       "      <th>person_emp_length</th>\n",
       "      <th>loan_intent</th>\n",
       "      <th>loan_grade</th>\n",
       "      <th>loan_amnt</th>\n",
       "      <th>loan_int_rate</th>\n",
       "      <th>cb_person_default_on_file</th>\n",
       "      <th>cb_person_cred_hist_length</th>\n",
       "    </tr>\n",
       "  </thead>\n",
       "  <tbody>\n",
       "    <tr>\n",
       "      <th>210</th>\n",
       "      <td>21</td>\n",
       "      <td>192000</td>\n",
       "      <td>MORTGAGE</td>\n",
       "      <td>123.0</td>\n",
       "      <td>VENTURE</td>\n",
       "      <td>A</td>\n",
       "      <td>20000</td>\n",
       "      <td>6.54</td>\n",
       "      <td>N</td>\n",
       "      <td>4</td>\n",
       "    </tr>\n",
       "    <tr>\n",
       "      <th>0</th>\n",
       "      <td>22</td>\n",
       "      <td>59000</td>\n",
       "      <td>RENT</td>\n",
       "      <td>123.0</td>\n",
       "      <td>PERSONAL</td>\n",
       "      <td>D</td>\n",
       "      <td>35000</td>\n",
       "      <td>16.02</td>\n",
       "      <td>Y</td>\n",
       "      <td>3</td>\n",
       "    </tr>\n",
       "  </tbody>\n",
       "</table>\n",
       "</div>"
      ],
      "text/plain": [
       "     person_age  person_income person_home_ownership  person_emp_length  \\\n",
       "210          21         192000              MORTGAGE              123.0   \n",
       "0            22          59000                  RENT              123.0   \n",
       "\n",
       "    loan_intent loan_grade  loan_amnt  loan_int_rate  \\\n",
       "210     VENTURE          A      20000           6.54   \n",
       "0      PERSONAL          D      35000          16.02   \n",
       "\n",
       "    cb_person_default_on_file  cb_person_cred_hist_length  \n",
       "210                         N                           4  \n",
       "0                           Y                           3  "
      ]
     },
     "execution_count": 31,
     "metadata": {},
     "output_type": "execute_result"
    }
   ],
   "source": [
    "x_train.loc[x_train['person_emp_length']>=66, :]"
   ]
  },
  {
   "cell_type": "code",
   "execution_count": 32,
   "id": "ae34ca6a",
   "metadata": {},
   "outputs": [
    {
     "data": {
      "text/html": [
       "<div>\n",
       "<style scoped>\n",
       "    .dataframe tbody tr th:only-of-type {\n",
       "        vertical-align: middle;\n",
       "    }\n",
       "\n",
       "    .dataframe tbody tr th {\n",
       "        vertical-align: top;\n",
       "    }\n",
       "\n",
       "    .dataframe thead th {\n",
       "        text-align: right;\n",
       "    }\n",
       "</style>\n",
       "<table border=\"1\" class=\"dataframe\">\n",
       "  <thead>\n",
       "    <tr style=\"text-align: right;\">\n",
       "      <th></th>\n",
       "      <th>person_age</th>\n",
       "      <th>person_income</th>\n",
       "      <th>person_home_ownership</th>\n",
       "      <th>person_emp_length</th>\n",
       "      <th>loan_intent</th>\n",
       "      <th>loan_grade</th>\n",
       "      <th>loan_amnt</th>\n",
       "      <th>loan_int_rate</th>\n",
       "      <th>loan_status</th>\n",
       "      <th>loan_percent_income</th>\n",
       "      <th>cb_person_default_on_file</th>\n",
       "      <th>cb_person_cred_hist_length</th>\n",
       "    </tr>\n",
       "  </thead>\n",
       "  <tbody>\n",
       "    <tr>\n",
       "      <th>0</th>\n",
       "      <td>22</td>\n",
       "      <td>59000</td>\n",
       "      <td>RENT</td>\n",
       "      <td>123.0</td>\n",
       "      <td>PERSONAL</td>\n",
       "      <td>D</td>\n",
       "      <td>35000</td>\n",
       "      <td>16.02</td>\n",
       "      <td>1</td>\n",
       "      <td>0.59</td>\n",
       "      <td>Y</td>\n",
       "      <td>3</td>\n",
       "    </tr>\n",
       "    <tr>\n",
       "      <th>210</th>\n",
       "      <td>21</td>\n",
       "      <td>192000</td>\n",
       "      <td>MORTGAGE</td>\n",
       "      <td>123.0</td>\n",
       "      <td>VENTURE</td>\n",
       "      <td>A</td>\n",
       "      <td>20000</td>\n",
       "      <td>6.54</td>\n",
       "      <td>0</td>\n",
       "      <td>0.10</td>\n",
       "      <td>N</td>\n",
       "      <td>4</td>\n",
       "    </tr>\n",
       "  </tbody>\n",
       "</table>\n",
       "</div>"
      ],
      "text/plain": [
       "     person_age  person_income person_home_ownership  person_emp_length  \\\n",
       "0            22          59000                  RENT              123.0   \n",
       "210          21         192000              MORTGAGE              123.0   \n",
       "\n",
       "    loan_intent loan_grade  loan_amnt  loan_int_rate  loan_status  \\\n",
       "0      PERSONAL          D      35000          16.02            1   \n",
       "210     VENTURE          A      20000           6.54            0   \n",
       "\n",
       "     loan_percent_income cb_person_default_on_file  cb_person_cred_hist_length  \n",
       "0                   0.59                         Y                           3  \n",
       "210                 0.10                         N                           4  "
      ]
     },
     "execution_count": 32,
     "metadata": {},
     "output_type": "execute_result"
    }
   ],
   "source": [
    "df.query(\"person_age<=person_emp_length+14\")"
   ]
  },
  {
   "cell_type": "code",
   "execution_count": 33,
   "id": "e4c8d0af",
   "metadata": {},
   "outputs": [],
   "source": [
    "x_train = x_train.loc[(x_train['person_emp_length']<66) | (x_train['person_emp_length'].isna()), :]"
   ]
  },
  {
   "cell_type": "code",
   "execution_count": 34,
   "id": "a7c0cd9f",
   "metadata": {},
   "outputs": [],
   "source": [
    "#updating y values\n",
    "y_train = y_train[x_train.index]"
   ]
  },
  {
   "cell_type": "code",
   "execution_count": 35,
   "id": "1c63c90e",
   "metadata": {},
   "outputs": [
    {
     "data": {
      "text/plain": [
       "['person_home_ownership',\n",
       " 'loan_intent',\n",
       " 'loan_grade',\n",
       " 'cb_person_default_on_file']"
      ]
     },
     "execution_count": 35,
     "metadata": {},
     "output_type": "execute_result"
    }
   ],
   "source": [
    "categorical_features = [feature for feature in x_train if x_train[feature].dtypes=='O']\n",
    "categorical_features"
   ]
  },
  {
   "cell_type": "code",
   "execution_count": 36,
   "id": "53237ac0",
   "metadata": {},
   "outputs": [],
   "source": [
    "num_pipe = Pipeline([\n",
    "    ('impute',IterativeImputer()),\n",
    "    ('scalar',StandardScaler())\n",
    "])"
   ]
  },
  {
   "cell_type": "code",
   "execution_count": 37,
   "id": "d25117c0",
   "metadata": {},
   "outputs": [],
   "source": [
    "ct = ColumnTransformer([\n",
    "    ('num_pipe',num_pipe,numerical_features),\n",
    "    ('categorical_features',OneHotEncoder(sparse=False,handle_unknown='ignore'),categorical_features)\n",
    "],remainder='passthrough')"
   ]
  },
  {
   "cell_type": "code",
   "execution_count": 38,
   "id": "d9f3a0e9",
   "metadata": {},
   "outputs": [],
   "source": [
    "from lightgbm import LGBMClassifier"
   ]
  },
  {
   "cell_type": "code",
   "execution_count": 39,
   "id": "7e47b76a",
   "metadata": {},
   "outputs": [],
   "source": [
    "\n",
    "grid = {\n",
    "    RandomForestClassifier(random_state=0, n_jobs=-1, class_weight='balanced'):\n",
    "    {'model__n_estimators':[300,400,500],\n",
    "     'coltf__num_pipe__impute__estimator': [LinearRegression(), RandomForestRegressor(random_state=0),\n",
    "                                        KNeighborsRegressor()]},\n",
    "    \n",
    "    LGBMClassifier(class_weight='balanced', random_state=0, n_jobs=-1):\n",
    "    {'model__n_estimators':[300,400,500],\n",
    "     'model__learning_rate':[0.001,0.01,0.1,1,10],\n",
    "     'model__boosting_type': ['gbdt', 'goss', 'dart'],\n",
    "     'coltf__num_pipe__impute__estimator':[LinearRegression(), RandomForestRegressor(random_state=0),\n",
    "                                        KNeighborsRegressor()]},\n",
    "}"
   ]
  },
  {
   "cell_type": "code",
   "execution_count": 40,
   "id": "a8130ba3",
   "metadata": {},
   "outputs": [
    {
     "name": "stdout",
     "output_type": "stream",
     "text": [
      "RandomForestClassifier(class_weight='balanced', n_jobs=-1, random_state=0)\n",
      "--------------------------------------------------\n",
      "{'model__n_estimators': [300, 400, 500], 'coltf__num_pipe__impute__estimator': [LinearRegression(), RandomForestRegressor(random_state=0), KNeighborsRegressor()]}\n",
      "\n",
      "\n",
      "LGBMClassifier(class_weight='balanced', random_state=0)\n",
      "--------------------------------------------------\n",
      "{'model__n_estimators': [300, 400, 500], 'model__learning_rate': [0.001, 0.01, 0.1, 1, 10], 'model__boosting_type': ['gbdt', 'goss', 'dart'], 'coltf__num_pipe__impute__estimator': [LinearRegression(), RandomForestRegressor(random_state=0), KNeighborsRegressor()]}\n",
      "\n",
      "\n"
     ]
    }
   ],
   "source": [
    "for clf, param in grid.items():\n",
    "    print(clf)\n",
    "    print('-'*50)\n",
    "    print(param)\n",
    "    print('\\n')"
   ]
  },
  {
   "cell_type": "code",
   "execution_count": 45,
   "id": "935ab573",
   "metadata": {},
   "outputs": [],
   "source": [
    "full_df = pd.DataFrame()\n",
    "best_algos = {}"
   ]
  },
  {
   "cell_type": "code",
   "execution_count": 47,
   "id": "6d22cbde",
   "metadata": {},
   "outputs": [
    {
     "name": "stdout",
     "output_type": "stream",
     "text": [
      "Fitting 5 folds for each of 4 candidates, totalling 20 fits\n",
      "Fitting 5 folds for each of 4 candidates, totalling 20 fits\n"
     ]
    }
   ],
   "source": [
    "for clf, param in grid.items():\n",
    "    pipe = Pipeline([('coltf',ct),('model',clf)])\n",
    "    gs = RandomizedSearchCV(estimator = pipe,param_distributions = param, scoring = 'accuracy',n_jobs = -1, verbose = 3, n_iter=4,random_state = 0)\n",
    "    gs.fit(x_train,y_train)\n",
    "    all_res = pd.DataFrame(gs.cv_results_)\n",
    "    temp = all_res.loc[:,['params','mean_test_score']]\n",
    "    algo_name = str(clf).split('(')[0]\n",
    "    temp['algo']=algo_name\n",
    "    full_df = pd.concat([full_df,temp],ignore_index = True)\n",
    "    best_algos[algo_name]=gs.best_estimator_"
   ]
  },
  {
   "cell_type": "code",
   "execution_count": 48,
   "id": "d8daecc0",
   "metadata": {},
   "outputs": [
    {
     "data": {
      "text/html": [
       "<div>\n",
       "<style scoped>\n",
       "    .dataframe tbody tr th:only-of-type {\n",
       "        vertical-align: middle;\n",
       "    }\n",
       "\n",
       "    .dataframe tbody tr th {\n",
       "        vertical-align: top;\n",
       "    }\n",
       "\n",
       "    .dataframe thead th {\n",
       "        text-align: right;\n",
       "    }\n",
       "</style>\n",
       "<table border=\"1\" class=\"dataframe\">\n",
       "  <thead>\n",
       "    <tr style=\"text-align: right;\">\n",
       "      <th></th>\n",
       "      <th>params</th>\n",
       "      <th>mean_test_score</th>\n",
       "      <th>algo</th>\n",
       "    </tr>\n",
       "  </thead>\n",
       "  <tbody>\n",
       "    <tr>\n",
       "      <th>2</th>\n",
       "      <td>{'model__n_estimators': 400, 'coltf__num_pipe_...</td>\n",
       "      <td>0.922537</td>\n",
       "      <td>RandomForestClassifier</td>\n",
       "    </tr>\n",
       "    <tr>\n",
       "      <th>1</th>\n",
       "      <td>{'model__n_estimators': 500, 'coltf__num_pipe_...</td>\n",
       "      <td>0.922537</td>\n",
       "      <td>RandomForestClassifier</td>\n",
       "    </tr>\n",
       "    <tr>\n",
       "      <th>0</th>\n",
       "      <td>{'model__n_estimators': 400, 'coltf__num_pipe_...</td>\n",
       "      <td>0.922074</td>\n",
       "      <td>RandomForestClassifier</td>\n",
       "    </tr>\n",
       "    <tr>\n",
       "      <th>3</th>\n",
       "      <td>{'model__n_estimators': 400, 'coltf__num_pipe_...</td>\n",
       "      <td>0.921650</td>\n",
       "      <td>RandomForestClassifier</td>\n",
       "    </tr>\n",
       "    <tr>\n",
       "      <th>7</th>\n",
       "      <td>{'model__n_estimators': 300, 'model__learning_...</td>\n",
       "      <td>0.908572</td>\n",
       "      <td>LGBMClassifier</td>\n",
       "    </tr>\n",
       "    <tr>\n",
       "      <th>4</th>\n",
       "      <td>{'model__n_estimators': 300, 'model__learning_...</td>\n",
       "      <td>0.869146</td>\n",
       "      <td>LGBMClassifier</td>\n",
       "    </tr>\n",
       "    <tr>\n",
       "      <th>5</th>\n",
       "      <td>{'model__n_estimators': 300, 'model__learning_...</td>\n",
       "      <td>0.868683</td>\n",
       "      <td>LGBMClassifier</td>\n",
       "    </tr>\n",
       "    <tr>\n",
       "      <th>6</th>\n",
       "      <td>{'model__n_estimators': 300, 'model__learning_...</td>\n",
       "      <td>0.863784</td>\n",
       "      <td>LGBMClassifier</td>\n",
       "    </tr>\n",
       "  </tbody>\n",
       "</table>\n",
       "</div>"
      ],
      "text/plain": [
       "                                              params  mean_test_score  \\\n",
       "2  {'model__n_estimators': 400, 'coltf__num_pipe_...         0.922537   \n",
       "1  {'model__n_estimators': 500, 'coltf__num_pipe_...         0.922537   \n",
       "0  {'model__n_estimators': 400, 'coltf__num_pipe_...         0.922074   \n",
       "3  {'model__n_estimators': 400, 'coltf__num_pipe_...         0.921650   \n",
       "7  {'model__n_estimators': 300, 'model__learning_...         0.908572   \n",
       "4  {'model__n_estimators': 300, 'model__learning_...         0.869146   \n",
       "5  {'model__n_estimators': 300, 'model__learning_...         0.868683   \n",
       "6  {'model__n_estimators': 300, 'model__learning_...         0.863784   \n",
       "\n",
       "                     algo  \n",
       "2  RandomForestClassifier  \n",
       "1  RandomForestClassifier  \n",
       "0  RandomForestClassifier  \n",
       "3  RandomForestClassifier  \n",
       "7          LGBMClassifier  \n",
       "4          LGBMClassifier  \n",
       "5          LGBMClassifier  \n",
       "6          LGBMClassifier  "
      ]
     },
     "execution_count": 48,
     "metadata": {},
     "output_type": "execute_result"
    }
   ],
   "source": [
    "full_df.sort_values('mean_test_score', ascending=False)"
   ]
  },
  {
   "cell_type": "code",
   "execution_count": 49,
   "id": "1d0b89d6",
   "metadata": {},
   "outputs": [
    {
     "data": {
      "text/plain": [
       "{'model__n_estimators': 400,\n",
       " 'coltf__num_pipe__impute__estimator': LinearRegression()}"
      ]
     },
     "execution_count": 49,
     "metadata": {},
     "output_type": "execute_result"
    }
   ],
   "source": [
    "full_df.sort_values('mean_test_score', ascending=False).iloc[0, 0]"
   ]
  },
  {
   "cell_type": "code",
   "execution_count": 50,
   "id": "0a4fdf44",
   "metadata": {},
   "outputs": [
    {
     "data": {
      "text/plain": [
       "Pipeline(steps=[('coltf',\n",
       "                 ColumnTransformer(remainder='passthrough',\n",
       "                                   transformers=[('num_pipe',\n",
       "                                                  Pipeline(steps=[('impute',\n",
       "                                                                   IterativeImputer(estimator=LinearRegression())),\n",
       "                                                                  ('scalar',\n",
       "                                                                   StandardScaler())]),\n",
       "                                                  ['person_age',\n",
       "                                                   'person_income',\n",
       "                                                   'person_emp_length',\n",
       "                                                   'loan_amnt', 'loan_int_rate',\n",
       "                                                   'cb_person_cred_hist_length']),\n",
       "                                                 ('categorical_features',\n",
       "                                                  OneHotEncoder(handle_unknown='ignore',\n",
       "                                                                sparse=False),\n",
       "                                                  ['person_home_ownership',\n",
       "                                                   'loan_intent', 'loan_grade',\n",
       "                                                   'cb_person_default_on_file'])])),\n",
       "                ('model',\n",
       "                 RandomForestClassifier(class_weight='balanced',\n",
       "                                        n_estimators=400, n_jobs=-1,\n",
       "                                        random_state=0))])"
      ]
     },
     "execution_count": 50,
     "metadata": {},
     "output_type": "execute_result"
    }
   ],
   "source": [
    "be = best_algos['RandomForestClassifier']\n",
    "be"
   ]
  },
  {
   "cell_type": "code",
   "execution_count": 52,
   "id": "e5828f08",
   "metadata": {},
   "outputs": [
    {
     "data": {
      "text/plain": [
       "Pipeline(steps=[('coltf',\n",
       "                 ColumnTransformer(remainder='passthrough',\n",
       "                                   transformers=[('num_pipe',\n",
       "                                                  Pipeline(steps=[('impute',\n",
       "                                                                   IterativeImputer(estimator=LinearRegression())),\n",
       "                                                                  ('scalar',\n",
       "                                                                   StandardScaler())]),\n",
       "                                                  ['person_age',\n",
       "                                                   'person_income',\n",
       "                                                   'person_emp_length',\n",
       "                                                   'loan_amnt', 'loan_int_rate',\n",
       "                                                   'cb_person_cred_hist_length']),\n",
       "                                                 ('categorical_features',\n",
       "                                                  OneHotEncoder(handle_unknown='ignore',\n",
       "                                                                sparse=False),\n",
       "                                                  ['person_home_ownership',\n",
       "                                                   'loan_intent', 'loan_grade',\n",
       "                                                   'cb_person_default_on_file'])])),\n",
       "                ('model',\n",
       "                 RandomForestClassifier(class_weight='balanced',\n",
       "                                        n_estimators=400, n_jobs=-1,\n",
       "                                        random_state=0))])"
      ]
     },
     "execution_count": 52,
     "metadata": {},
     "output_type": "execute_result"
    }
   ],
   "source": [
    "be.fit(x_train, y_train)"
   ]
  },
  {
   "cell_type": "code",
   "execution_count": 53,
   "id": "125f80d2",
   "metadata": {},
   "outputs": [],
   "source": [
    "preds = be.predict(x_test)"
   ]
  },
  {
   "cell_type": "code",
   "execution_count": 54,
   "id": "e1e8debc",
   "metadata": {},
   "outputs": [
    {
     "data": {
      "text/plain": [
       "array([[5006,   60],\n",
       "       [ 435,  983]], dtype=int64)"
      ]
     },
     "execution_count": 54,
     "metadata": {},
     "output_type": "execute_result"
    }
   ],
   "source": [
    "confusion_matrix(y_test, preds)"
   ]
  },
  {
   "cell_type": "code",
   "execution_count": 55,
   "id": "f58b6e3a",
   "metadata": {},
   "outputs": [
    {
     "name": "stderr",
     "output_type": "stream",
     "text": [
      "C:\\Users\\satguru\\anaconda3\\lib\\site-packages\\sklearn\\utils\\deprecation.py:87: FutureWarning: Function plot_confusion_matrix is deprecated; Function `plot_confusion_matrix` is deprecated in 1.0 and will be removed in 1.2. Use one of the class methods: ConfusionMatrixDisplay.from_predictions or ConfusionMatrixDisplay.from_estimator.\n",
      "  warnings.warn(msg, category=FutureWarning)\n"
     ]
    },
    {
     "data": {
      "text/plain": [
       "<sklearn.metrics._plot.confusion_matrix.ConfusionMatrixDisplay at 0x29db28deac0>"
      ]
     },
     "execution_count": 55,
     "metadata": {},
     "output_type": "execute_result"
    },
    {
     "data": {
      "image/png": "[encoded data removed]",
      "text/plain": [
       "<Figure size 432x288 with 2 Axes>"
      ]
     },
     "metadata": {
      "needs_background": "light"
     },
     "output_type": "display_data"
    }
   ],
   "source": [
    "plot_confusion_matrix(be, x_test, y_test)"
   ]
  },
  {
   "cell_type": "code",
   "execution_count": 56,
   "id": "c5f3cfb9",
   "metadata": {},
   "outputs": [
    {
     "name": "stdout",
     "output_type": "stream",
     "text": [
      "              precision    recall  f1-score   support\n",
      "\n",
      "           0       0.92      0.99      0.95      5066\n",
      "           1       0.94      0.69      0.80      1418\n",
      "\n",
      "    accuracy                           0.92      6484\n",
      "   macro avg       0.93      0.84      0.88      6484\n",
      "weighted avg       0.92      0.92      0.92      6484\n",
      "\n"
     ]
    }
   ],
   "source": [
    "print(classification_report(y_test, preds))"
   ]
  },
  {
   "cell_type": "code",
   "execution_count": 59,
   "id": "bda4c761",
   "metadata": {},
   "outputs": [
    {
     "data": {
      "text/plain": [
       "0.9236582356570019"
      ]
     },
     "execution_count": 59,
     "metadata": {},
     "output_type": "execute_result"
    }
   ],
   "source": [
    "be.score(x_test, y_test)"
   ]
  },
  {
   "cell_type": "markdown",
   "id": "e5f119dd",
   "metadata": {},
   "source": [
    "Precision Recall Curve"
   ]
  },
  {
   "cell_type": "code",
   "execution_count": 62,
   "id": "c3d99e53",
   "metadata": {},
   "outputs": [
    {
     "name": "stderr",
     "output_type": "stream",
     "text": [
      "C:\\Users\\satguru\\anaconda3\\lib\\site-packages\\sklearn\\utils\\deprecation.py:87: FutureWarning: Function plot_precision_recall_curve is deprecated; Function `plot_precision_recall_curve` is deprecated in 1.0 and will be removed in 1.2. Use one of the class methods: PrecisionRecallDisplay.from_predictions or PrecisionRecallDisplay.from_estimator.\n",
      "  warnings.warn(msg, category=FutureWarning)\n"
     ]
    },
    {
     "data": {
      "text/plain": [
       "<matplotlib.legend.Legend at 0x29db611fe80>"
      ]
     },
     "execution_count": 62,
     "metadata": {},
     "output_type": "execute_result"
    },
    {
     "data": {
      "image/png": "[encoded data removed]",
      "text/plain": [
       "<Figure size 432x288 with 1 Axes>"
      ]
     },
     "metadata": {
      "needs_background": "light"
     },
     "output_type": "display_data"
    }
   ],
   "source": [
    "plot_precision_recall_curve(estimator=be, X=x_test, y=y_test, name='model AUC')\n",
    "baseline = y_test.sum() / len(y_test)\n",
    "plt.axhline(baseline, ls='--', color='r', label=f'Baseline model ({round(baseline,2)})')\n",
    "plt.legend(loc='best')"
   ]
  },
  {
   "cell_type": "markdown",
   "id": "64a5c97c",
   "metadata": {},
   "source": [
    "Learning Curve"
   ]
  },
  {
   "cell_type": "code",
   "execution_count": 64,
   "id": "663f5f9d",
   "metadata": {},
   "outputs": [],
   "source": [
    "a, b, c = learning_curve(be, x_train, y_train, n_jobs=-1, scoring='accuracy')"
   ]
  },
  {
   "cell_type": "code",
   "execution_count": 65,
   "id": "75729ca3",
   "metadata": {},
   "outputs": [
    {
     "data": {
      "text/plain": [
       "<matplotlib.legend.Legend at 0x29db7d0de20>"
      ]
     },
     "execution_count": 65,
     "metadata": {},
     "output_type": "execute_result"
    },
    {
     "data": {
      "image/png": "[encoded data removed]",
      "text/plain": [
       "<Figure size 432x288 with 1 Axes>"
      ]
     },
     "metadata": {
      "needs_background": "light"
     },
     "output_type": "display_data"
    }
   ],
   "source": [
    "plt.plot(a, b.mean(axis=1), label='training accuracy')\n",
    "plt.plot(a, c.mean(axis=1),  label='validation accuracy')\n",
    "plt.xlabel('training sample sizes')\n",
    "plt.ylabel('accuracy')\n",
    "plt.legend()"
   ]
  },
  {
   "cell_type": "markdown",
   "id": "d89d24fa",
   "metadata": {},
   "source": [
    "Overfitting\n",
    "> high traning accuracy\n",
    "> low testing accuracy\n",
    "> big gap between training and testinc curve\n",
    "> model is too complex for the data"
   ]
  },
  {
   "cell_type": "code",
   "execution_count": 69,
   "id": "c4d897a5",
   "metadata": {},
   "outputs": [],
   "source": [
    "grid = {\n",
    "    \n",
    "    RandomForestClassifier(random_state=0, n_jobs=-1, class_weight='balanced'):\n",
    "    {'model__n_estimators':[100,200,300],\n",
    "     'model__max_depth':[5, 9, 13],\n",
    "     'model__min_samples_split':[4,6,8],\n",
    "     'coltf__num_pipe__impute__estimator': [LinearRegression(), RandomForestRegressor(random_state=0),\n",
    "                                        KNeighborsRegressor()]}\n",
    "}"
   ]
  },
  {
   "cell_type": "code",
   "execution_count": 70,
   "id": "fc4463f1",
   "metadata": {},
   "outputs": [
    {
     "name": "stdout",
     "output_type": "stream",
     "text": [
      "RandomForestClassifier(class_weight='balanced', n_jobs=-1, random_state=0)\n",
      "--------------------------------------------------\n",
      "{'model__n_estimators': [100, 200, 300], 'model__max_depth': [5, 9, 13], 'model__min_samples_split': [4, 6, 8], 'coltf__num_pipe__impute__estimator': [LinearRegression(), RandomForestRegressor(random_state=0), KNeighborsRegressor()]}\n",
      "\n",
      "\n"
     ]
    }
   ],
   "source": [
    "for clf, param in grid.items():\n",
    "    print(clf)\n",
    "    print('-'*50)\n",
    "    print(param)\n",
    "    print('\\n')"
   ]
  },
  {
   "cell_type": "code",
   "execution_count": 72,
   "id": "e119bb02",
   "metadata": {},
   "outputs": [
    {
     "name": "stdout",
     "output_type": "stream",
     "text": [
      "Fitting 5 folds for each of 4 candidates, totalling 20 fits\n"
     ]
    }
   ],
   "source": [
    "full_df = pd.DataFrame()\n",
    "best_algos = {}\n",
    "\n",
    "for clf, param in grid.items():\n",
    "    pipe = Pipeline([\n",
    "    ('coltf', ct),\n",
    "    ('model', clf)\n",
    "])\n",
    "\n",
    "    gs = RandomizedSearchCV(estimator=pipe, param_distributions=param, scoring='accuracy',\n",
    "                            n_jobs=-1, verbose=3, n_iter=4)\n",
    "    \n",
    "    gs.fit(x_train, y_train)\n",
    "    \n",
    "    all_res = pd.DataFrame(gs.cv_results_)\n",
    "\n",
    "    temp = all_res.loc[:, ['params', 'mean_test_score']]\n",
    "    algo_name = str(clf).split('(')[0]\n",
    "    temp['algo'] = algo_name\n",
    "    \n",
    "    full_df = pd.concat([full_df, temp])\n",
    "    best_algos[algo_name] = gs.best_estimator_"
   ]
  },
  {
   "cell_type": "code",
   "execution_count": 74,
   "id": "c71b1bfe",
   "metadata": {},
   "outputs": [
    {
     "data": {
      "text/html": [
       "<div>\n",
       "<style scoped>\n",
       "    .dataframe tbody tr th:only-of-type {\n",
       "        vertical-align: middle;\n",
       "    }\n",
       "\n",
       "    .dataframe tbody tr th {\n",
       "        vertical-align: top;\n",
       "    }\n",
       "\n",
       "    .dataframe thead th {\n",
       "        text-align: right;\n",
       "    }\n",
       "</style>\n",
       "<table border=\"1\" class=\"dataframe\">\n",
       "  <thead>\n",
       "    <tr style=\"text-align: right;\">\n",
       "      <th></th>\n",
       "      <th>params</th>\n",
       "      <th>mean_test_score</th>\n",
       "      <th>algo</th>\n",
       "    </tr>\n",
       "  </thead>\n",
       "  <tbody>\n",
       "    <tr>\n",
       "      <th>0</th>\n",
       "      <td>{'model__n_estimators': 200, 'model__min_sampl...</td>\n",
       "      <td>0.864054</td>\n",
       "      <td>RandomForestClassifier</td>\n",
       "    </tr>\n",
       "    <tr>\n",
       "      <th>2</th>\n",
       "      <td>{'model__n_estimators': 100, 'model__min_sampl...</td>\n",
       "      <td>0.812630</td>\n",
       "      <td>RandomForestClassifier</td>\n",
       "    </tr>\n",
       "    <tr>\n",
       "      <th>1</th>\n",
       "      <td>{'model__n_estimators': 300, 'model__min_sampl...</td>\n",
       "      <td>0.809776</td>\n",
       "      <td>RandomForestClassifier</td>\n",
       "    </tr>\n",
       "    <tr>\n",
       "      <th>3</th>\n",
       "      <td>{'model__n_estimators': 300, 'model__min_sampl...</td>\n",
       "      <td>0.809428</td>\n",
       "      <td>RandomForestClassifier</td>\n",
       "    </tr>\n",
       "  </tbody>\n",
       "</table>\n",
       "</div>"
      ],
      "text/plain": [
       "                                              params  mean_test_score  \\\n",
       "0  {'model__n_estimators': 200, 'model__min_sampl...         0.864054   \n",
       "2  {'model__n_estimators': 100, 'model__min_sampl...         0.812630   \n",
       "1  {'model__n_estimators': 300, 'model__min_sampl...         0.809776   \n",
       "3  {'model__n_estimators': 300, 'model__min_sampl...         0.809428   \n",
       "\n",
       "                     algo  \n",
       "0  RandomForestClassifier  \n",
       "2  RandomForestClassifier  \n",
       "1  RandomForestClassifier  \n",
       "3  RandomForestClassifier  "
      ]
     },
     "execution_count": 74,
     "metadata": {},
     "output_type": "execute_result"
    }
   ],
   "source": [
    "full_df.sort_values('mean_test_score', ascending=False)"
   ]
  },
  {
   "cell_type": "code",
   "execution_count": 75,
   "id": "61970600",
   "metadata": {},
   "outputs": [
    {
     "data": {
      "text/plain": [
       "Pipeline(steps=[('coltf',\n",
       "                 ColumnTransformer(remainder='passthrough',\n",
       "                                   transformers=[('num_pipe',\n",
       "                                                  Pipeline(steps=[('impute',\n",
       "                                                                   IterativeImputer(estimator=LinearRegression())),\n",
       "                                                                  ('scalar',\n",
       "                                                                   StandardScaler())]),\n",
       "                                                  ['person_age',\n",
       "                                                   'person_income',\n",
       "                                                   'person_emp_length',\n",
       "                                                   'loan_amnt', 'loan_int_rate',\n",
       "                                                   'cb_person_cred_hist_length']),\n",
       "                                                 ('categorical_features',\n",
       "                                                  OneHotEncoder(handle_unknown='ignore',\n",
       "                                                                sparse=False),\n",
       "                                                  ['person_home_ownership',\n",
       "                                                   'loan_intent', 'loan_grade',\n",
       "                                                   'cb_person_default_on_file'])])),\n",
       "                ('model',\n",
       "                 RandomForestClassifier(class_weight='balanced', max_depth=9,\n",
       "                                        min_samples_split=8, n_estimators=200,\n",
       "                                        n_jobs=-1, random_state=0))])"
      ]
     },
     "execution_count": 75,
     "metadata": {},
     "output_type": "execute_result"
    }
   ],
   "source": [
    "be = best_algos['RandomForestClassifier']\n",
    "be"
   ]
  },
  {
   "cell_type": "code",
   "execution_count": 76,
   "id": "75db3903",
   "metadata": {},
   "outputs": [
    {
     "data": {
      "text/plain": [
       "Pipeline(steps=[('coltf',\n",
       "                 ColumnTransformer(remainder='passthrough',\n",
       "                                   transformers=[('num_pipe',\n",
       "                                                  Pipeline(steps=[('impute',\n",
       "                                                                   IterativeImputer(estimator=LinearRegression())),\n",
       "                                                                  ('scalar',\n",
       "                                                                   StandardScaler())]),\n",
       "                                                  ['person_age',\n",
       "                                                   'person_income',\n",
       "                                                   'person_emp_length',\n",
       "                                                   'loan_amnt', 'loan_int_rate',\n",
       "                                                   'cb_person_cred_hist_length']),\n",
       "                                                 ('categorical_features',\n",
       "                                                  OneHotEncoder(handle_unknown='ignore',\n",
       "                                                                sparse=False),\n",
       "                                                  ['person_home_ownership',\n",
       "                                                   'loan_intent', 'loan_grade',\n",
       "                                                   'cb_person_default_on_file'])])),\n",
       "                ('model',\n",
       "                 RandomForestClassifier(class_weight='balanced', max_depth=9,\n",
       "                                        min_samples_split=8, n_estimators=200,\n",
       "                                        n_jobs=-1, random_state=0))])"
      ]
     },
     "execution_count": 76,
     "metadata": {},
     "output_type": "execute_result"
    }
   ],
   "source": [
    "be.fit(x_train, y_train)"
   ]
  },
  {
   "cell_type": "code",
   "execution_count": 77,
   "id": "d106dcfa",
   "metadata": {},
   "outputs": [],
   "source": [
    "preds = be.predict(x_test)"
   ]
  },
  {
   "cell_type": "code",
   "execution_count": 78,
   "id": "5639e140",
   "metadata": {},
   "outputs": [
    {
     "data": {
      "text/plain": [
       "array([[4497,  569],\n",
       "       [ 304, 1114]], dtype=int64)"
      ]
     },
     "execution_count": 78,
     "metadata": {},
     "output_type": "execute_result"
    }
   ],
   "source": [
    "confusion_matrix(y_test, preds)"
   ]
  },
  {
   "cell_type": "code",
   "execution_count": 79,
   "id": "10eb303f",
   "metadata": {},
   "outputs": [
    {
     "name": "stderr",
     "output_type": "stream",
     "text": [
      "C:\\Users\\satguru\\anaconda3\\lib\\site-packages\\sklearn\\utils\\deprecation.py:87: FutureWarning: Function plot_confusion_matrix is deprecated; Function `plot_confusion_matrix` is deprecated in 1.0 and will be removed in 1.2. Use one of the class methods: ConfusionMatrixDisplay.from_predictions or ConfusionMatrixDisplay.from_estimator.\n",
      "  warnings.warn(msg, category=FutureWarning)\n"
     ]
    },
    {
     "data": {
      "text/plain": [
       "<sklearn.metrics._plot.confusion_matrix.ConfusionMatrixDisplay at 0x29db6110fa0>"
      ]
     },
     "execution_count": 79,
     "metadata": {},
     "output_type": "execute_result"
    },
    {
     "data": {
      "image/png": "[encoded data removed]",
      "text/plain": [
       "<Figure size 432x288 with 2 Axes>"
      ]
     },
     "metadata": {
      "needs_background": "light"
     },
     "output_type": "display_data"
    }
   ],
   "source": [
    "plot_confusion_matrix(be, x_test, y_test)"
   ]
  },
  {
   "cell_type": "code",
   "execution_count": 80,
   "id": "7a1091e3",
   "metadata": {},
   "outputs": [
    {
     "name": "stdout",
     "output_type": "stream",
     "text": [
      "              precision    recall  f1-score   support\n",
      "\n",
      "           0       0.94      0.89      0.91      5066\n",
      "           1       0.66      0.79      0.72      1418\n",
      "\n",
      "    accuracy                           0.87      6484\n",
      "   macro avg       0.80      0.84      0.82      6484\n",
      "weighted avg       0.88      0.87      0.87      6484\n",
      "\n"
     ]
    }
   ],
   "source": [
    "print(classification_report(y_test, preds))"
   ]
  },
  {
   "cell_type": "code",
   "execution_count": 82,
   "id": "1d903d68",
   "metadata": {},
   "outputs": [
    {
     "data": {
      "text/plain": [
       "0.8653608883405305"
      ]
     },
     "execution_count": 82,
     "metadata": {},
     "output_type": "execute_result"
    }
   ],
   "source": [
    "be.score(x_test, y_test)"
   ]
  },
  {
   "cell_type": "code",
   "execution_count": 84,
   "id": "38115e60",
   "metadata": {},
   "outputs": [
    {
     "name": "stderr",
     "output_type": "stream",
     "text": [
      "C:\\Users\\satguru\\anaconda3\\lib\\site-packages\\sklearn\\utils\\deprecation.py:87: FutureWarning: Function plot_precision_recall_curve is deprecated; Function `plot_precision_recall_curve` is deprecated in 1.0 and will be removed in 1.2. Use one of the class methods: PrecisionRecallDisplay.from_predictions or PrecisionRecallDisplay.from_estimator.\n",
      "  warnings.warn(msg, category=FutureWarning)\n"
     ]
    },
    {
     "data": {
      "text/plain": [
       "<matplotlib.legend.Legend at 0x29db7d0b460>"
      ]
     },
     "execution_count": 84,
     "metadata": {},
     "output_type": "execute_result"
    },
    {
     "data": {
      "image/png": "[encoded data removed]",
      "text/plain": [
       "<Figure size 432x288 with 1 Axes>"
      ]
     },
     "metadata": {
      "needs_background": "light"
     },
     "output_type": "display_data"
    }
   ],
   "source": [
    "plot_precision_recall_curve(be, x_test, y_test)\n",
    "baseline = y_test.sum() / len(y_test)\n",
    "plt.axhline(baseline, ls='--', color='r', label=f'Baseline model ({round(baseline,2)})')\n",
    "plt.legend(loc='best')"
   ]
  },
  {
   "cell_type": "code",
   "execution_count": 86,
   "id": "0934a130",
   "metadata": {},
   "outputs": [],
   "source": [
    "a, b, c = learning_curve(be, x_train, y_train, n_jobs=-1, cv=5)"
   ]
  },
  {
   "cell_type": "code",
   "execution_count": 87,
   "id": "c0738f65",
   "metadata": {},
   "outputs": [
    {
     "data": {
      "text/plain": [
       "array([ 2073,  6739, 11405, 16071, 20737])"
      ]
     },
     "execution_count": 87,
     "metadata": {},
     "output_type": "execute_result"
    }
   ],
   "source": [
    "a"
   ]
  },
  {
   "cell_type": "code",
   "execution_count": 88,
   "id": "d1eec8f4",
   "metadata": {},
   "outputs": [
    {
     "data": {
      "text/plain": [
       "array([[0.93294742, 0.93680656, 0.93680656, 0.93680656, 0.93680656],\n",
       "       [0.91096602, 0.90874017, 0.91170797, 0.91170797, 0.91170797],\n",
       "       [0.89715037, 0.89864095, 0.90644454, 0.89355546, 0.89355546],\n",
       "       [0.8858814 , 0.8845747 , 0.88725033, 0.89303715, 0.8931616 ],\n",
       "       [0.87785118, 0.88084101, 0.87992477, 0.88508463, 0.88190191]])"
      ]
     },
     "execution_count": 88,
     "metadata": {},
     "output_type": "execute_result"
    }
   ],
   "source": [
    "b"
   ]
  },
  {
   "cell_type": "code",
   "execution_count": 89,
   "id": "1a18c133",
   "metadata": {},
   "outputs": [
    {
     "data": {
      "text/plain": [
       "array([[0.8584378 , 0.8756027 , 0.88155864, 0.87191358, 0.87750772],\n",
       "       [0.87270974, 0.87270974, 0.88599537, 0.87924383, 0.87692901],\n",
       "       [0.86962392, 0.87270974, 0.88580247, 0.87037037, 0.86766975],\n",
       "       [0.86306654, 0.86287367, 0.87345679, 0.87307099, 0.86747685],\n",
       "       [0.85689489, 0.8611379 , 0.87191358, 0.87191358, 0.86207562]])"
      ]
     },
     "execution_count": 89,
     "metadata": {},
     "output_type": "execute_result"
    }
   ],
   "source": [
    "c"
   ]
  },
  {
   "cell_type": "code",
   "execution_count": 90,
   "id": "b3ffa36a",
   "metadata": {},
   "outputs": [
    {
     "data": {
      "text/plain": [
       "<matplotlib.legend.Legend at 0x29db7f14820>"
      ]
     },
     "execution_count": 90,
     "metadata": {},
     "output_type": "execute_result"
    },
    {
     "data": {
      "image/png": "[encoded data removed]",
      "text/plain": [
       "<Figure size 432x288 with 1 Axes>"
      ]
     },
     "metadata": {
      "needs_background": "light"
     },
     "output_type": "display_data"
    }
   ],
   "source": [
    "plt.plot(a, b.mean(axis=1), label='training accuracy')\n",
    "plt.plot(a, c.mean(axis=1),  label='validation accuracy')\n",
    "plt.xlabel('training sample sizes')\n",
    "plt.ylabel('accuracy')\n",
    "plt.legend()"
   ]
  },
  {
   "cell_type": "code",
   "execution_count": null,
   "id": "b009798b",
   "metadata": {},
   "outputs": [],
   "source": []
  }
 ],
 "metadata": {
  "kernelspec": {
   "display_name": "Python 3 (ipykernel)",
   "language": "python",
   "name": "python3"
  },
  "language_info": {
   "codemirror_mode": {
    "name": "ipython",
    "version": 3
   },
   "file_extension": ".py",
   "mimetype": "text/x-python",
   "name": "python",
   "nbconvert_exporter": "python",
   "pygments_lexer": "ipython3",
   "version": "3.9.12"
  }
 },
 "nbformat": 4,
 "nbformat_minor": 5
}
