{
 "cells": [
  {
   "cell_type": "code",
   "execution_count": 2,
   "id": "5306bfb9",
   "metadata": {},
   "outputs": [],
   "source": [
    "import pandas as pd\n",
    "import requests"
   ]
  },
  {
   "cell_type": "code",
   "execution_count": 5,
   "id": "24ad64d6",
   "metadata": {},
   "outputs": [
    {
     "data": {
      "text/plain": [
       "<Response [401]>"
      ]
     },
     "execution_count": 5,
     "metadata": {},
     "output_type": "execute_result"
    }
   ],
   "source": [
    "requests.get('https://api.themoviedb.org/3/movie/upcoming?api_key=<<api_key>>&language=en-US&page=1')"
   ]
  },
  {
   "cell_type": "code",
   "execution_count": 7,
   "id": "4c3c594e",
   "metadata": {},
   "outputs": [],
   "source": [
    "df = pd.DataFrame()"
   ]
  },
  {
   "cell_type": "code",
   "execution_count": 8,
   "id": "60f51065",
   "metadata": {},
   "outputs": [
    {
     "data": {
      "text/html": [
       "<div>\n",
       "<style scoped>\n",
       "    .dataframe tbody tr th:only-of-type {\n",
       "        vertical-align: middle;\n",
       "    }\n",
       "\n",
       "    .dataframe tbody tr th {\n",
       "        vertical-align: top;\n",
       "    }\n",
       "\n",
       "    .dataframe thead th {\n",
       "        text-align: right;\n",
       "    }\n",
       "</style>\n",
       "<table border=\"1\" class=\"dataframe\">\n",
       "  <thead>\n",
       "    <tr style=\"text-align: right;\">\n",
       "      <th></th>\n",
       "    </tr>\n",
       "  </thead>\n",
       "  <tbody>\n",
       "  </tbody>\n",
       "</table>\n",
       "</div>"
      ],
      "text/plain": [
       "Empty DataFrame\n",
       "Columns: []\n",
       "Index: []"
      ]
     },
     "execution_count": 8,
     "metadata": {},
     "output_type": "execute_result"
    }
   ],
   "source": [
    "df"
   ]
  },
  {
   "cell_type": "markdown",
   "id": "f999c2bf",
   "metadata": {},
   "source": [
    "for i in range(1,492):\n",
    "    response = requests.get((''))\n",
    "    temp_df = pd.DataFrame(response)['','','','','','']\n",
    "    df.append(temp_df,ignore_index = True)\n",
    "df"
   ]
  },
  {
   "cell_type": "code",
   "execution_count": null,
   "id": "5284d518",
   "metadata": {},
   "outputs": [],
   "source": [
    "df.to_csv('abc.csv')"
   ]
  },
  {
   "cell_type": "code",
   "execution_count": 10,
   "id": "0dbfcc8e",
   "metadata": {},
   "outputs": [],
   "source": [
    "url = 'https://imdb8.p.rapidapi.com/actors/list-most-popular-celebs'\n",
    "headers = {\n",
    "    \"X-RapidAPI-Key\": \"5a4e151c20msh643afa37e7b65c4p1286bbjsnb34fa51130a0\",\n",
    "    \"X-RapidAPI-Host\": \"imdb8.p.rapidapi.com\"\n",
    "}\n",
    "response = requests.get(url,headers = headers)"
   ]
  },
  {
   "cell_type": "code",
   "execution_count": 11,
   "id": "a99e3235",
   "metadata": {},
   "outputs": [
    {
     "data": {
      "text/plain": [
       "<Response [200]>"
      ]
     },
     "execution_count": 11,
     "metadata": {},
     "output_type": "execute_result"
    }
   ],
   "source": [
    "response"
   ]
  },
  {
   "cell_type": "code",
   "execution_count": 12,
   "id": "f9efe501",
   "metadata": {},
   "outputs": [
    {
     "name": "stdout",
     "output_type": "stream",
     "text": [
      "[\"/name/nm0050959/\",\"/name/nm0001744/\",\"/name/nm8165602/\",\"/name/nm4977564/\",\"/name/nm3218692/\",\"/name/nm0000409/\",\"/name/nm4911194/\",\"/name/nm2201555/\",\"/name/nm2142336/\",\"/name/nm0006969/\",\"/name/nm2646861/\",\"/name/nm3996999/\",\"/name/nm3718007/\",\"/name/nm7006860/\",\"/name/nm0755267/\",\"/name/nm2443416/\",\"/name/nm7879234/\",\"/name/nm4289392/\",\"/name/nm6795924/\",\"/name/nm1396022/\",\"/name/nm1275259/\",\"/name/nm0005169/\",\"/name/nm1954240/\",\"/name/nm2812026/\",\"/name/nm0424534/\",\"/name/nm2668086/\",\"/name/nm0000129/\",\"/name/nm1105980/\",\"/name/nm1156709/\",\"/name/nm6239256/\",\"/name/nm8908475/\",\"/name/nm0001491/\",\"/name/nm0000706/\",\"/name/nm0544718/\",\"/name/nm1431940/\",\"/name/nm5353321/\",\"/name/nm0135221/\",\"/name/nm0000115/\",\"/name/nm6045536/\",\"/name/nm0397171/\",\"/name/nm0588096/\",\"/name/nm3510471/\",\"/name/nm2581521/\",\"/name/nm0430107/\",\"/name/nm8091769/\",\"/name/nm0001625/\",\"/name/nm5301405/\",\"/name/nm1092086/\",\"/name/nm0177639/\",\"/name/nm0992538/\",\"/name/nm3053338/\",\"/name/nm0702841/\",\"/name/nm8349839/\",\"/name/nm0000437/\",\"/name/nm0369513/\",\"/name/nm2265157/\",\"/name/nm9135274/\",\"/name/nm8837339/\",\"/name/nm0005392/\",\"/name/nm0393222/\",\"/name/nm0002907/\",\"/name/nm1083404/\",\"/name/nm0000158/\",\"/name/nm0910607/\",\"/name/nm1968873/\",\"/name/nm4726634/\",\"/name/nm4129745/\",\"/name/nm5896355/\",\"/name/nm2858875/\",\"/name/nm1869101/\",\"/name/nm1555340/\",\"/name/nm0000093/\",\"/name/nm0000230/\",\"/name/nm2186865/\",\"/name/nm5584750/\",\"/name/nm2125623/\",\"/name/nm13143634/\",\"/name/nm6073955/\",\"/name/nm0004754/\",\"/name/nm0005123/\",\"/name/nm0000148/\",\"/name/nm0449299/\",\"/name/nm3513533/\",\"/name/nm0717709/\",\"/name/nm4025229/\",\"/name/nm0000229/\",\"/name/nm2179180/\",\"/name/nm6884042/\",\"/name/nm0000138/\",\"/name/nm0000501/\",\"/name/nm3014089/\",\"/name/nm0100866/\",\"/name/nm0000533/\",\"/name/nm6714979/\",\"/name/nm2442289/\",\"/name/nm0540441/\",\"/name/nm0000949/\",\"/name/nm0000495/\",\"/name/nm1093951/\",\"/name/nm0005009/\"]\n"
     ]
    }
   ],
   "source": [
    "print(response.text)"
   ]
  },
  {
   "cell_type": "code",
   "execution_count": 13,
   "id": "fe7a598b",
   "metadata": {},
   "outputs": [],
   "source": [
    "df = pd.DataFrame(response)"
   ]
  },
  {
   "cell_type": "code",
   "execution_count": 14,
   "id": "1f1edf10",
   "metadata": {},
   "outputs": [
    {
     "data": {
      "text/html": [
       "<div>\n",
       "<style scoped>\n",
       "    .dataframe tbody tr th:only-of-type {\n",
       "        vertical-align: middle;\n",
       "    }\n",
       "\n",
       "    .dataframe tbody tr th {\n",
       "        vertical-align: top;\n",
       "    }\n",
       "\n",
       "    .dataframe thead th {\n",
       "        text-align: right;\n",
       "    }\n",
       "</style>\n",
       "<table border=\"1\" class=\"dataframe\">\n",
       "  <thead>\n",
       "    <tr style=\"text-align: right;\">\n",
       "      <th></th>\n",
       "      <th>0</th>\n",
       "    </tr>\n",
       "  </thead>\n",
       "  <tbody>\n",
       "    <tr>\n",
       "      <th>0</th>\n",
       "      <td>b'[\"/name/nm0050959/\",\"/name/nm0001744/\",\"/nam...</td>\n",
       "    </tr>\n",
       "    <tr>\n",
       "      <th>1</th>\n",
       "      <td>b'194/\",\"/name/nm2201555/\",\"/name/nm2142336/\",...</td>\n",
       "    </tr>\n",
       "    <tr>\n",
       "      <th>2</th>\n",
       "      <td>b'm7006860/\",\"/name/nm0755267/\",\"/name/nm24434...</td>\n",
       "    </tr>\n",
       "    <tr>\n",
       "      <th>3</th>\n",
       "      <td>b'ame/nm1275259/\",\"/name/nm0005169/\",\"/name/nm...</td>\n",
       "    </tr>\n",
       "    <tr>\n",
       "      <th>4</th>\n",
       "      <td>b'\",\"/name/nm1105980/\",\"/name/nm1156709/\",\"/na...</td>\n",
       "    </tr>\n",
       "    <tr>\n",
       "      <th>5</th>\n",
       "      <td>b'4718/\",\"/name/nm1431940/\",\"/name/nm5353321/\"...</td>\n",
       "    </tr>\n",
       "    <tr>\n",
       "      <th>6</th>\n",
       "      <td>b'nm0588096/\",\"/name/nm3510471/\",\"/name/nm2581...</td>\n",
       "    </tr>\n",
       "    <tr>\n",
       "      <th>7</th>\n",
       "      <td>b'name/nm1092086/\",\"/name/nm0177639/\",\"/name/n...</td>\n",
       "    </tr>\n",
       "    <tr>\n",
       "      <th>8</th>\n",
       "      <td>b'/\",\"/name/nm0369513/\",\"/name/nm2265157/\",\"/n...</td>\n",
       "    </tr>\n",
       "    <tr>\n",
       "      <th>9</th>\n",
       "      <td>b'02907/\",\"/name/nm1083404/\",\"/name/nm0000158/...</td>\n",
       "    </tr>\n",
       "    <tr>\n",
       "      <th>10</th>\n",
       "      <td>b'/nm5896355/\",\"/name/nm2858875/\",\"/name/nm186...</td>\n",
       "    </tr>\n",
       "    <tr>\n",
       "      <th>11</th>\n",
       "      <td>b'/name/nm5584750/\",\"/name/nm2125623/\",\"/name/...</td>\n",
       "    </tr>\n",
       "    <tr>\n",
       "      <th>12</th>\n",
       "      <td>b'48/\",\"/name/nm0449299/\",\"/name/nm3513533/\",\"...</td>\n",
       "    </tr>\n",
       "    <tr>\n",
       "      <th>13</th>\n",
       "      <td>b'6884042/\",\"/name/nm0000138/\",\"/name/nm000050...</td>\n",
       "    </tr>\n",
       "    <tr>\n",
       "      <th>14</th>\n",
       "      <td>b'me/nm2442289/\",\"/name/nm0540441/\",\"/name/nm0...</td>\n",
       "    </tr>\n",
       "  </tbody>\n",
       "</table>\n",
       "</div>"
      ],
      "text/plain": [
       "                                                    0\n",
       "0   b'[\"/name/nm0050959/\",\"/name/nm0001744/\",\"/nam...\n",
       "1   b'194/\",\"/name/nm2201555/\",\"/name/nm2142336/\",...\n",
       "2   b'm7006860/\",\"/name/nm0755267/\",\"/name/nm24434...\n",
       "3   b'ame/nm1275259/\",\"/name/nm0005169/\",\"/name/nm...\n",
       "4   b'\",\"/name/nm1105980/\",\"/name/nm1156709/\",\"/na...\n",
       "5   b'4718/\",\"/name/nm1431940/\",\"/name/nm5353321/\"...\n",
       "6   b'nm0588096/\",\"/name/nm3510471/\",\"/name/nm2581...\n",
       "7   b'name/nm1092086/\",\"/name/nm0177639/\",\"/name/n...\n",
       "8   b'/\",\"/name/nm0369513/\",\"/name/nm2265157/\",\"/n...\n",
       "9   b'02907/\",\"/name/nm1083404/\",\"/name/nm0000158/...\n",
       "10  b'/nm5896355/\",\"/name/nm2858875/\",\"/name/nm186...\n",
       "11  b'/name/nm5584750/\",\"/name/nm2125623/\",\"/name/...\n",
       "12  b'48/\",\"/name/nm0449299/\",\"/name/nm3513533/\",\"...\n",
       "13  b'6884042/\",\"/name/nm0000138/\",\"/name/nm000050...\n",
       "14  b'me/nm2442289/\",\"/name/nm0540441/\",\"/name/nm0..."
      ]
     },
     "execution_count": 14,
     "metadata": {},
     "output_type": "execute_result"
    }
   ],
   "source": [
    "df"
   ]
  },
  {
   "cell_type": "code",
   "execution_count": 15,
   "id": "e5baf527",
   "metadata": {},
   "outputs": [
    {
     "name": "stdout",
     "output_type": "stream",
     "text": [
      "[\"/name/nm0050959/\",\"/name/nm0001744/\",\"/name/nm8165602/\",\"/name/nm4977564/\",\"/name/nm3218692/\",\"/name/nm0000409/\",\"/name/nm4911194/\",\"/name/nm2201555/\",\"/name/nm2142336/\",\"/name/nm0006969/\",\"/name/nm2646861/\",\"/name/nm3996999/\",\"/name/nm3718007/\",\"/name/nm7006860/\",\"/name/nm0755267/\",\"/name/nm2443416/\",\"/name/nm7879234/\",\"/name/nm4289392/\",\"/name/nm6795924/\",\"/name/nm1396022/\",\"/name/nm1275259/\",\"/name/nm0005169/\",\"/name/nm1954240/\",\"/name/nm2812026/\",\"/name/nm0424534/\",\"/name/nm2668086/\",\"/name/nm0000129/\",\"/name/nm1105980/\",\"/name/nm1156709/\",\"/name/nm6239256/\",\"/name/nm8908475/\",\"/name/nm0001491/\",\"/name/nm0000706/\",\"/name/nm0544718/\",\"/name/nm1431940/\",\"/name/nm5353321/\",\"/name/nm0135221/\",\"/name/nm0000115/\",\"/name/nm6045536/\",\"/name/nm0397171/\",\"/name/nm0588096/\",\"/name/nm3510471/\",\"/name/nm2581521/\",\"/name/nm0430107/\",\"/name/nm8091769/\",\"/name/nm0001625/\",\"/name/nm5301405/\",\"/name/nm1092086/\",\"/name/nm0177639/\",\"/name/nm0992538/\",\"/name/nm3053338/\",\"/name/nm0702841/\",\"/name/nm8349839/\",\"/name/nm0000437/\",\"/name/nm0369513/\",\"/name/nm2265157/\",\"/name/nm9135274/\",\"/name/nm8837339/\",\"/name/nm0005392/\",\"/name/nm0393222/\",\"/name/nm0002907/\",\"/name/nm1083404/\",\"/name/nm0000158/\",\"/name/nm0910607/\",\"/name/nm1968873/\",\"/name/nm4726634/\",\"/name/nm4129745/\",\"/name/nm5896355/\",\"/name/nm2858875/\",\"/name/nm1869101/\",\"/name/nm1555340/\",\"/name/nm0000093/\",\"/name/nm0000230/\",\"/name/nm2186865/\",\"/name/nm5584750/\",\"/name/nm2125623/\",\"/name/nm13143634/\",\"/name/nm6073955/\",\"/name/nm0004754/\",\"/name/nm0005123/\",\"/name/nm0000148/\",\"/name/nm0449299/\",\"/name/nm3513533/\",\"/name/nm0717709/\",\"/name/nm4025229/\",\"/name/nm0000229/\",\"/name/nm2179180/\",\"/name/nm6884042/\",\"/name/nm0000138/\",\"/name/nm0000501/\",\"/name/nm3014089/\",\"/name/nm0100866/\",\"/name/nm0000533/\",\"/name/nm6714979/\",\"/name/nm2442289/\",\"/name/nm0540441/\",\"/name/nm0000949/\",\"/name/nm0000495/\",\"/name/nm1093951/\",\"/name/nm0005009/\"]\n"
     ]
    }
   ],
   "source": [
    "import requests\n",
    "\n",
    "url = \"https://imdb8.p.rapidapi.com/actors/list-most-popular-celebs\"\n",
    "\n",
    "querystring = {\"homeCountry\":\"US\",\"currentCountry\":\"US\",\"purchaseCountry\":\"US\"}\n",
    "\n",
    "headers = {\n",
    "\t\"X-RapidAPI-Key\": \"5a4e151c20msh643afa37e7b65c4p1286bbjsnb34fa51130a0\",\n",
    "\t\"X-RapidAPI-Host\": \"imdb8.p.rapidapi.com\"\n",
    "}\n",
    "\n",
    "response = requests.request(\"GET\", url, headers=headers, params=querystring)\n",
    "\n",
    "print(response.text)"
   ]
  },
  {
   "cell_type": "code",
   "execution_count": 19,
   "id": "e5a792d1",
   "metadata": {},
   "outputs": [
    {
     "name": "stdout",
     "output_type": "stream",
     "text": [
      "{\"@type\":\"imdb.api.name.awardssummary\",\"awardsSummary\":{\"highlighted\":{\"awardName\":\"Primetime Emmy\",\"count\":1,\"eventId\":\"/event/ev0000223/\",\"isWinner\":false},\"otherNominationsCount\":14,\"otherWinsCount\":7},\"akas\":[\"Jonathan Rhys Myers\",\"Jonathan Rhys-Meyers\",\"Jonathan Rhys-Myer\"],\"id\":\"/name/nm0001667/\",\"image\":{\"height\":2208,\"id\":\"/name/nm0001667/images/rm1272017664\",\"url\":\"https://m.media-amazon.com/images/M/MV5BMGEwYzJhOTctNjZkMy00NTZjLWE3MTctNGU2ZGRmODNiZmNiXkEyXkFqcGdeQXVyOTQyNzIyMDM@._V1_.jpg\",\"width\":1242},\"legacyNameText\":\"Rhys Meyers, Jonathan\",\"name\":\"Jonathan Rhys Meyers\"}\n"
     ]
    }
   ],
   "source": [
    "import requests\n",
    "\n",
    "url = \"https://imdb8.p.rapidapi.com/actors/get-awards-summary\"\n",
    "\n",
    "querystring = {\"nconst\":\"nm0001667\"}\n",
    "\n",
    "headers = {\n",
    "\t\"X-RapidAPI-Key\": \"5a4e151c20msh643afa37e7b65c4p1286bbjsnb34fa51130a0\",\n",
    "\t\"X-RapidAPI-Host\": \"imdb8.p.rapidapi.com\"\n",
    "}\n",
    "\n",
    "response = requests.request(\"GET\", url, headers=headers, params=querystring)\n",
    "\n",
    "print(response.text)"
   ]
  },
  {
   "cell_type": "code",
   "execution_count": 20,
   "id": "4fb9eb6f",
   "metadata": {},
   "outputs": [
    {
     "data": {
      "text/html": [
       "<div>\n",
       "<style scoped>\n",
       "    .dataframe tbody tr th:only-of-type {\n",
       "        vertical-align: middle;\n",
       "    }\n",
       "\n",
       "    .dataframe tbody tr th {\n",
       "        vertical-align: top;\n",
       "    }\n",
       "\n",
       "    .dataframe thead th {\n",
       "        text-align: right;\n",
       "    }\n",
       "</style>\n",
       "<table border=\"1\" class=\"dataframe\">\n",
       "  <thead>\n",
       "    <tr style=\"text-align: right;\">\n",
       "      <th></th>\n",
       "      <th>0</th>\n",
       "    </tr>\n",
       "  </thead>\n",
       "  <tbody>\n",
       "    <tr>\n",
       "      <th>0</th>\n",
       "      <td>b'{\"@type\":\"imdb.api.name.awardssummary\",\"awar...</td>\n",
       "    </tr>\n",
       "    <tr>\n",
       "      <th>1</th>\n",
       "      <td>b'ev0000223/\",\"isWinner\":false},\"otherNominati...</td>\n",
       "    </tr>\n",
       "    <tr>\n",
       "      <th>2</th>\n",
       "      <td>b'\",\"Jonathan Rhys-Myer\"],\"id\":\"/name/nm000166...</td>\n",
       "    </tr>\n",
       "    <tr>\n",
       "      <th>3</th>\n",
       "      <td>b'/m.media-amazon.com/images/M/MV5BMGEwYzJhOTc...</td>\n",
       "    </tr>\n",
       "    <tr>\n",
       "      <th>4</th>\n",
       "      <td>b'1242},\"legacyNameText\":\"Rhys Meyers, Jonatha...</td>\n",
       "    </tr>\n",
       "  </tbody>\n",
       "</table>\n",
       "</div>"
      ],
      "text/plain": [
       "                                                   0\n",
       "0  b'{\"@type\":\"imdb.api.name.awardssummary\",\"awar...\n",
       "1  b'ev0000223/\",\"isWinner\":false},\"otherNominati...\n",
       "2  b'\",\"Jonathan Rhys-Myer\"],\"id\":\"/name/nm000166...\n",
       "3  b'/m.media-amazon.com/images/M/MV5BMGEwYzJhOTc...\n",
       "4  b'1242},\"legacyNameText\":\"Rhys Meyers, Jonatha..."
      ]
     },
     "execution_count": 20,
     "metadata": {},
     "output_type": "execute_result"
    }
   ],
   "source": [
    "pd.DataFrame(response)"
   ]
  },
  {
   "cell_type": "code",
   "execution_count": 22,
   "id": "6fc177df",
   "metadata": {},
   "outputs": [
    {
     "name": "stdout",
     "output_type": "stream",
     "text": [
      "{\"lon\":-78.5,\"country_code\":\"US\",\"timezone\":\"America\\/New_York\",\"data\":[{\"weather\":{\"description\":\"Overcast clouds\",\"code\":804,\"icon\":\"c04n\"},\"temp\":6.8,\"app_temp\":4.4,\"snow\":0,\"solar_rad\":0,\"pop\":0,\"ozone\":315,\"wind_cdir\":\"ESE\",\"rh\":76,\"pod\":\"n\",\"clouds_mid\":83,\"pres\":1009.5,\"snow_depth\":0,\"clouds_low\":100,\"clouds\":100,\"vis\":19.696,\"wind_gust_spd\":7.87,\"wind_spd\":3.32,\"ghi\":0,\"wind_cdir_full\":\"east-southeast\",\"slp\":1017.5,\"datetime\":\"2023-03-10:09\",\"ts\":1678438800,\"wind_dir\":111,\"dni\":0,\"dewpt\":2.8,\"uv\":0,\"clouds_hi\":100,\"timestamp_utc\":\"2023-03-10T09:00:00\",\"timestamp_local\":\"2023-03-10T04:00:00\",\"dhi\":0,\"precip\":0},{\"weather\":{\"description\":\"Overcast clouds\",\"code\":804,\"icon\":\"c04d\"},\"temp\":8.2,\"app_temp\":8.2,\"snow\":0,\"solar_rad\":40.949997,\"pop\":15,\"ozone\":321,\"wind_cdir\":\"ESE\",\"rh\":83,\"pod\":\"d\",\"clouds_mid\":99,\"pres\":1010,\"snow_depth\":0,\"clouds_low\":100,\"clouds\":100,\"vis\":17.088,\"wind_gust_spd\":6.35,\"wind_spd\":1.79,\"ghi\":53.3,\"wind_cdir_full\":\"east-southeast\",\"slp\":1016,\"datetime\":\"2023-03-10:12\",\"ts\":1678449600,\"wind_dir\":123,\"dni\":303.9,\"dewpt\":5.5,\"uv\":0.5,\"clouds_hi\":100,\"timestamp_utc\":\"2023-03-10T12:00:00\",\"timestamp_local\":\"2023-03-10T07:00:00\",\"dhi\":35.62,\"precip\":0.125},{\"weather\":{\"description\":\"Heavy rain\",\"code\":502,\"icon\":\"r03d\"},\"temp\":9.1,\"app_temp\":9.1,\"snow\":0,\"solar_rad\":77.07397,\"pop\":90,\"ozone\":324.8,\"wind_cdir\":\"SSE\",\"rh\":92,\"pod\":\"d\",\"clouds_mid\":100,\"pres\":1007.5,\"snow_depth\":0,\"clouds_low\":100,\"clouds\":100,\"vis\":2.3,\"wind_gust_spd\":8.16,\"wind_spd\":3.74,\"ghi\":626.79,\"wind_cdir_full\":\"south-southeast\",\"slp\":1015,\"datetime\":\"2023-03-10:15\",\"ts\":1678460400,\"wind_dir\":158,\"dni\":852.34,\"dewpt\":7.9,\"uv\":1.3,\"clouds_hi\":100,\"timestamp_utc\":\"2023-03-10T15:00:00\",\"timestamp_local\":\"2023-03-10T10:00:00\",\"dhi\":105.69,\"precip\":8.6380005},{\"weather\":{\"description\":\"Drizzle\",\"code\":301,\"icon\":\"d02d\"},\"temp\":10.8,\"app_temp\":10.8,\"snow\":0,\"solar_rad\":171.32022,\"pop\":55,\"ozone\":322.3,\"wind_cdir\":\"SSE\",\"rh\":95,\"pod\":\"d\",\"clouds_mid\":100,\"pres\":1003,\"snow_depth\":0,\"clouds_low\":100,\"clouds\":100,\"vis\":12.2,\"wind_gust_spd\":8.31,\"wind_spd\":4.21,\"ghi\":803.78,\"wind_cdir_full\":\"south-southeast\",\"slp\":1011.5,\"datetime\":\"2023-03-10:18\",\"ts\":1678471200,\"wind_dir\":165,\"dni\":909.09,\"dewpt\":10,\"uv\":2,\"clouds_hi\":100,\"timestamp_utc\":\"2023-03-10T18:00:00\",\"timestamp_local\":\"2023-03-10T13:00:00\",\"dhi\":116.68,\"precip\":0.9316406},{\"weather\":{\"description\":\"Overcast clouds\",\"code\":804,\"icon\":\"c04d\"},\"temp\":12.3,\"app_temp\":12.3,\"snow\":0,\"solar_rad\":115.78902,\"pop\":0,\"ozone\":327,\"wind_cdir\":\"SW\",\"rh\":94,\"pod\":\"d\",\"clouds_mid\":0,\"pres\":1000,\"snow_depth\":0,\"clouds_low\":100,\"clouds\":100,\"vis\":12.4,\"wind_gust_spd\":7.78,\"wind_spd\":3.35,\"ghi\":413.97,\"wind_cdir_full\":\"southwest\",\"slp\":1008,\"datetime\":\"2023-03-10:21\",\"ts\":1678482000,\"wind_dir\":220,\"dni\":755.03,\"dewpt\":11.4,\"uv\":0.8,\"clouds_hi\":56,\"timestamp_utc\":\"2023-03-10T21:00:00\",\"timestamp_local\":\"2023-03-10T16:00:00\",\"dhi\":89.17,\"precip\":0},{\"weather\":{\"description\":\"Scattered clouds\",\"code\":802,\"icon\":\"c02n\"},\"temp\":11.4,\"app_temp\":11.4,\"snow\":0,\"solar_rad\":0,\"pop\":0,\"ozone\":335.8,\"wind_cdir\":\"WSW\",\"rh\":91,\"pod\":\"n\",\"clouds_mid\":0,\"pres\":998.5,\"snow_depth\":0,\"clouds_low\":27,\"clouds\":27,\"vis\":12.2,\"wind_gust_spd\":3.12,\"wind_spd\":0.75,\"ghi\":0,\"wind_cdir_full\":\"west-southwest\",\"slp\":1007.5,\"datetime\":\"2023-03-11:00\",\"ts\":1678492800,\"wind_dir\":237,\"dni\":0,\"dewpt\":10,\"uv\":0,\"clouds_hi\":0,\"timestamp_utc\":\"2023-03-11T00:00:00\",\"timestamp_local\":\"2023-03-10T19:00:00\",\"dhi\":0,\"precip\":0},{\"weather\":{\"description\":\"Few clouds\",\"code\":801,\"icon\":\"c02n\"},\"temp\":7.1,\"app_temp\":3.9,\"snow\":0,\"solar_rad\":0,\"pop\":0,\"ozone\":333,\"wind_cdir\":\"NW\",\"rh\":75,\"pod\":\"n\",\"clouds_mid\":0,\"pres\":1000.5,\"snow_depth\":0,\"clouds_low\":0,\"clouds\":3,\"vis\":21.696,\"wind_gust_spd\":10.27,\"wind_spd\":5.1,\"ghi\":0,\"wind_cdir_full\":\"northwest\",\"slp\":1008,\"datetime\":\"2023-03-11:03\",\"ts\":1678503600,\"wind_dir\":316,\"dni\":0,\"dewpt\":2.9,\"uv\":0,\"clouds_hi\":11,\"timestamp_utc\":\"2023-03-11T03:00:00\",\"timestamp_local\":\"2023-03-10T22:00:00\",\"dhi\":0,\"precip\":0},{\"weather\":{\"description\":\"Few clouds\",\"code\":801,\"icon\":\"c02n\"},\"temp\":5.3,\"app_temp\":1.8,\"snow\":0,\"solar_rad\":0,\"pop\":0,\"ozone\":335.3,\"wind_cdir\":\"WNW\",\"rh\":76,\"pod\":\"n\",\"clouds_mid\":4,\"pres\":1001.5,\"snow_depth\":0,\"clouds_low\":0,\"clouds\":4,\"vis\":20.496,\"wind_gust_spd\":7.79,\"wind_spd\":4.77,\"ghi\":0,\"wind_cdir_full\":\"west-northwest\",\"slp\":1009,\"datetime\":\"2023-03-11:06\",\"ts\":1678514400,\"wind_dir\":288,\"dni\":0,\"dewpt\":1.4,\"uv\":0,\"clouds_hi\":0,\"timestamp_utc\":\"2023-03-11T06:00:00\",\"timestamp_local\":\"2023-03-11T01:00:00\",\"dhi\":0,\"precip\":0},{\"weather\":{\"description\":\"Scattered clouds\",\"code\":802,\"icon\":\"c02n\"},\"temp\":4.7,\"app_temp\":1.5,\"snow\":0,\"solar_rad\":0,\"pop\":0,\"ozone\":336.8,\"wind_cdir\":\"WNW\",\"rh\":80,\"pod\":\"n\",\"clouds_mid\":22,\"pres\":1001.5,\"snow_depth\":0,\"clouds_low\":0,\"clouds\":22,\"vis\":18.896,\"wind_gust_spd\":7.25,\"wind_spd\":3.96,\"ghi\":0,\"wind_cdir_full\":\"west-northwest\",\"slp\":1009,\"datetime\":\"2023-03-11:09\",\"ts\":1678525200,\"wind_dir\":292,\"dni\":0,\"dewpt\":1.5,\"uv\":0,\"clouds_hi\":25,\"timestamp_utc\":\"2023-03-11T09:00:00\",\"timestamp_local\":\"2023-03-11T04:00:00\",\"dhi\":0,\"precip\":0},{\"weather\":{\"description\":\"Clear Sky\",\"code\":800,\"icon\":\"c01d\"},\"temp\":4,\"app_temp\":-0.7,\"snow\":0,\"solar_rad\":57.28,\"pop\":0,\"ozone\":350,\"wind_cdir\":\"WNW\",\"rh\":72,\"pod\":\"d\",\"clouds_mid\":0,\"pres\":1003,\"snow_depth\":0,\"clouds_low\":0,\"clouds\":0,\"vis\":22.8,\"wind_gust_spd\":12.31,\"wind_spd\":6.86,\"ghi\":57.28,\"wind_cdir_full\":\"west-northwest\",\"slp\":1010,\"datetime\":\"2023-03-11:12\",\"ts\":1678536000,\"wind_dir\":300,\"dni\":316.89,\"dewpt\":-0.6,\"uv\":1.4,\"clouds_hi\":0,\"timestamp_utc\":\"2023-03-11T12:00:00\",\"timestamp_local\":\"2023-03-11T07:00:00\",\"dhi\":36.84,\"precip\":0},{\"weather\":{\"description\":\"Few clouds\",\"code\":801,\"icon\":\"c02d\"},\"temp\":9.1,\"app_temp\":9.1,\"snow\":0,\"solar_rad\":632.2362,\"pop\":0,\"ozone\":339.8,\"wind_cdir\":\"NW\",\"rh\":59,\"pod\":\"d\",\"clouds_mid\":0,\"pres\":1003.5,\"snow_depth\":0,\"clouds_low\":3,\"clouds\":3,\"vis\":32.192,\"wind_gust_spd\":13.77,\"wind_spd\":8.66,\"ghi\":632.24,\"wind_cdir_full\":\"northwest\",\"slp\":1010.5,\"datetime\":\"2023-03-11:15\",\"ts\":1678546800,\"wind_dir\":309,\"dni\":854,\"dewpt\":1.5,\"uv\":4.1,\"clouds_hi\":0,\"timestamp_utc\":\"2023-03-11T15:00:00\",\"timestamp_local\":\"2023-03-11T10:00:00\",\"dhi\":106.03,\"precip\":0},{\"weather\":{\"description\":\"Few clouds\",\"code\":801,\"icon\":\"c02d\"},\"temp\":13.2,\"app_temp\":13.2,\"snow\":0,\"solar_rad\":808.4988,\"pop\":0,\"ozone\":339.5,\"wind_cdir\":\"NW\",\"rh\":39,\"pod\":\"d\",\"clouds_mid\":0,\"pres\":1002,\"snow_depth\":0,\"clouds_low\":2,\"clouds\":2,\"vis\":0.503,\"wind_gust_spd\":11.3,\"wind_spd\":8.02,\"ghi\":808.5,\"wind_cdir_full\":\"northwest\",\"slp\":1010.5,\"datetime\":\"2023-03-11:18\",\"ts\":1678557600,\"wind_dir\":316,\"dni\":910.03,\"dewpt\":-0.4,\"uv\":6.4,\"clouds_hi\":0,\"timestamp_utc\":\"2023-03-11T18:00:00\",\"timestamp_local\":\"2023-03-11T13:00:00\",\"dhi\":116.91,\"precip\":0},{\"weather\":{\"description\":\"Clear Sky\",\"code\":800,\"icon\":\"c01d\"},\"temp\":14.2,\"app_temp\":14.2,\"snow\":0,\"solar_rad\":417.67993,\"pop\":0,\"ozone\":330.5,\"wind_cdir\":\"NW\",\"rh\":32,\"pod\":\"d\",\"clouds_mid\":0,\"pres\":1003,\"snow_depth\":0,\"clouds_low\":1,\"clouds\":1,\"vis\":0.605,\"wind_gust_spd\":9.65,\"wind_spd\":6.88,\"ghi\":417.68,\"wind_cdir_full\":\"northwest\",\"slp\":1011,\"datetime\":\"2023-03-11:21\",\"ts\":1678568400,\"wind_dir\":315,\"dni\":756.86,\"dewpt\":-2.3,\"uv\":2.5,\"clouds_hi\":0,\"timestamp_utc\":\"2023-03-11T21:00:00\",\"timestamp_local\":\"2023-03-11T16:00:00\",\"dhi\":89.48,\"precip\":0},{\"weather\":{\"description\":\"Clear Sky\",\"code\":800,\"icon\":\"c01n\"},\"temp\":10.2,\"app_temp\":10.2,\"snow\":0,\"solar_rad\":0,\"pop\":0,\"ozone\":327.3,\"wind_cdir\":\"NW\",\"rh\":37,\"pod\":\"n\",\"clouds_mid\":0,\"pres\":1006,\"snow_depth\":0,\"clouds_low\":0,\"clouds\":0,\"vis\":0.523,\"wind_gust_spd\":6.03,\"wind_spd\":2.79,\"ghi\":0,\"wind_cdir_full\":\"northwest\",\"slp\":1013.5,\"datetime\":\"2023-03-12:00\",\"ts\":1678579200,\"wind_dir\":310,\"dni\":0,\"dewpt\":-3.9,\"uv\":0,\"clouds_hi\":0,\"timestamp_utc\":\"2023-03-12T00:00:00\",\"timestamp_local\":\"2023-03-11T19:00:00\",\"dhi\":0,\"precip\":0},{\"weather\":{\"description\":\"Clear Sky\",\"code\":800,\"icon\":\"c01n\"},\"temp\":6.5,\"app_temp\":4.9,\"snow\":0,\"solar_rad\":0,\"pop\":0,\"ozone\":322.5,\"wind_cdir\":\"NNW\",\"rh\":48,\"pod\":\"n\",\"clouds_mid\":0,\"pres\":1007,\"snow_depth\":0,\"clouds_low\":0,\"clouds\":0,\"vis\":40.096,\"wind_gust_spd\":5.5,\"wind_spd\":2.21,\"ghi\":0,\"wind_cdir_full\":\"north-northwest\",\"slp\":1014.5,\"datetime\":\"2023-03-12:03\",\"ts\":1678590000,\"wind_dir\":350,\"dni\":0,\"dewpt\":-3.7,\"uv\":0,\"clouds_hi\":0,\"timestamp_utc\":\"2023-03-12T03:00:00\",\"timestamp_local\":\"2023-03-11T22:00:00\",\"dhi\":0,\"precip\":0},{\"weather\":{\"description\":\"Few clouds\",\"code\":801,\"icon\":\"c02n\"},\"temp\":5,\"app_temp\":3.1,\"snow\":0,\"solar_rad\":0,\"pop\":0,\"ozone\":316,\"wind_cdir\":\"NNE\",\"rh\":55,\"pod\":\"n\",\"clouds_mid\":0,\"pres\":1008,\"snow_depth\":0,\"clouds_low\":0,\"clouds\":1,\"vis\":33.376,\"wind_gust_spd\":3.44,\"wind_spd\":2.22,\"ghi\":0,\"wind_cdir_full\":\"north-northeast\",\"slp\":1015.5,\"datetime\":\"2023-03-12:06\",\"ts\":1678600800,\"wind_dir\":32,\"dni\":0,\"dewpt\":-3.3,\"uv\":0,\"clouds_hi\":5,\"timestamp_utc\":\"2023-03-12T06:00:00\",\"timestamp_local\":\"2023-03-12T01:00:00\",\"dhi\":0,\"precip\":0},{\"weather\":{\"description\":\"Scattered clouds\",\"code\":802,\"icon\":\"c02n\"},\"temp\":4.7,\"app_temp\":6,\"snow\":0,\"solar_rad\":0,\"pop\":0,\"ozone\":310.8,\"wind_cdir\":\"SSE\",\"rh\":66,\"pod\":\"n\",\"clouds_mid\":28,\"pres\":1007.5,\"snow_depth\":0,\"clouds_low\":1,\"clouds\":28,\"vis\":24.096,\"wind_gust_spd\":0.4,\"wind_spd\":0.4,\"ghi\":0,\"wind_cdir_full\":\"south-southeast\",\"slp\":1015,\"datetime\":\"2023-03-12:09\",\"ts\":1678611600,\"wind_dir\":161,\"dni\":0,\"dewpt\":-1.1,\"uv\":0,\"clouds_hi\":71,\"timestamp_utc\":\"2023-03-12T09:00:00\",\"timestamp_local\":\"2023-03-12T05:00:00\",\"dhi\":0,\"precip\":0},{\"weather\":{\"description\":\"Overcast clouds\",\"code\":804,\"icon\":\"c04d\"},\"temp\":4.6,\"app_temp\":3.8,\"snow\":0,\"solar_rad\":44.173,\"pop\":0,\"ozone\":304.5,\"wind_cdir\":\"N\",\"rh\":69,\"pod\":\"d\",\"clouds_mid\":100,\"pres\":1008.5,\"snow_depth\":0,\"clouds_low\":100,\"clouds\":100,\"vis\":24.096,\"wind_gust_spd\":1.4,\"wind_spd\":1.33,\"ghi\":61.33,\"wind_cdir_full\":\"north\",\"slp\":1016.5,\"datetime\":\"2023-03-12:12\",\"ts\":1678622400,\"wind_dir\":2,\"dni\":329.5,\"dewpt\":-0.6,\"uv\":0.5,\"clouds_hi\":86,\"timestamp_utc\":\"2023-03-12T12:00:00\",\"timestamp_local\":\"2023-03-12T08:00:00\",\"dhi\":38.04,\"precip\":0},{\"weather\":{\"description\":\"Overcast clouds\",\"code\":804,\"icon\":\"c04d\"},\"temp\":5.1,\"app_temp\":4,\"snow\":0,\"solar_rad\":170.127,\"pop\":20,\"ozone\":298.5,\"wind_cdir\":\"ESE\",\"rh\":66,\"pod\":\"d\",\"clouds_mid\":100,\"pres\":1010,\"snow_depth\":0,\"clouds_low\":100,\"clouds\":100,\"vis\":16.4,\"wind_gust_spd\":2.22,\"wind_spd\":1.56,\"ghi\":637.67,\"wind_cdir_full\":\"east-southeast\",\"slp\":1018,\"datetime\":\"2023-03-12:15\",\"ts\":1678633200,\"wind_dir\":107,\"dni\":855.63,\"dewpt\":-0.7,\"uv\":1.4,\"clouds_hi\":100,\"timestamp_utc\":\"2023-03-12T15:00:00\",\"timestamp_local\":\"2023-03-12T11:00:00\",\"dhi\":106.36,\"precip\":0.1875},{\"weather\":{\"description\":\"Light shower rain\",\"code\":520,\"icon\":\"r04d\"},\"temp\":3.8,\"app_temp\":0.6,\"snow\":0,\"solar_rad\":177.94925,\"pop\":80,\"ozone\":294.3,\"wind_cdir\":\"SE\",\"rh\":89,\"pod\":\"d\",\"clouds_mid\":100,\"pres\":1007.5,\"snow_depth\":0,\"clouds_low\":100,\"clouds\":100,\"vis\":5.808,\"wind_gust_spd\":5.9,\"wind_spd\":3.69,\"ghi\":813.17,\"wind_cdir_full\":\"southeast\",\"slp\":1016,\"datetime\":\"2023-03-12:18\",\"ts\":1678644000,\"wind_dir\":133,\"dni\":910.94,\"dewpt\":2.2,\"uv\":2.1,\"clouds_hi\":100,\"timestamp_utc\":\"2023-03-12T18:00:00\",\"timestamp_local\":\"2023-03-12T14:00:00\",\"dhi\":117.13,\"precip\":1.75},{\"weather\":{\"description\":\"Light shower rain\",\"code\":520,\"icon\":\"r04d\"},\"temp\":4.5,\"app_temp\":1.1,\"snow\":0,\"solar_rad\":107.78663,\"pop\":85,\"ozone\":295.3,\"wind_cdir\":\"ESE\",\"rh\":95,\"pod\":\"d\",\"clouds_mid\":100,\"pres\":1005.5,\"snow_depth\":0,\"clouds_low\":100,\"clouds\":100,\"vis\":22.16,\"wind_gust_spd\":7.61,\"wind_spd\":4.12,\"ghi\":421.35,\"wind_cdir_full\":\"east-southeast\",\"slp\":1014,\"datetime\":\"2023-03-12:21\",\"ts\":1678654800,\"wind_dir\":106,\"dni\":758.64,\"dewpt\":3.7,\"uv\":0.8,\"clouds_hi\":100,\"timestamp_utc\":\"2023-03-12T21:00:00\",\"timestamp_local\":\"2023-03-12T17:00:00\",\"dhi\":89.78,\"precip\":2.6875},{\"weather\":{\"description\":\"Drizzle\",\"code\":301,\"icon\":\"d02n\"},\"temp\":5.1,\"app_temp\":1.9,\"snow\":0,\"solar_rad\":0,\"pop\":50,\"ozone\":297.8,\"wind_cdir\":\"ESE\",\"rh\":96,\"pod\":\"n\",\"clouds_mid\":100,\"pres\":1004.5,\"snow_depth\":0,\"clouds_low\":100,\"clouds\":100,\"vis\":20.336,\"wind_gust_spd\":9.41,\"wind_spd\":4.1,\"ghi\":0,\"wind_cdir_full\":\"east-southeast\",\"slp\":1012.5,\"datetime\":\"2023-03-13:00\",\"ts\":1678665600,\"wind_dir\":115,\"dni\":0,\"dewpt\":4.5,\"uv\":0,\"clouds_hi\":100,\"timestamp_utc\":\"2023-03-13T00:00:00\",\"timestamp_local\":\"2023-03-12T20:00:00\",\"dhi\":0,\"precip\":0.75},{\"weather\":{\"description\":\"Overcast clouds\",\"code\":804,\"icon\":\"c04n\"},\"temp\":6.5,\"app_temp\":3.9,\"snow\":0,\"solar_rad\":0,\"pop\":0,\"ozone\":298.8,\"wind_cdir\":\"ESE\",\"rh\":96,\"pod\":\"n\",\"clouds_mid\":51,\"pres\":1002.5,\"snow_depth\":0,\"clouds_low\":100,\"clouds\":100,\"vis\":24.128,\"wind_gust_spd\":12.02,\"wind_spd\":3.62,\"ghi\":0,\"wind_cdir_full\":\"east-southeast\",\"slp\":1011,\"datetime\":\"2023-03-13:03\",\"ts\":1678676400,\"wind_dir\":116,\"dni\":0,\"dewpt\":5.9,\"uv\":0,\"clouds_hi\":55,\"timestamp_utc\":\"2023-03-13T03:00:00\",\"timestamp_local\":\"2023-03-12T23:00:00\",\"dhi\":0,\"precip\":0},{\"weather\":{\"description\":\"Overcast clouds\",\"code\":804,\"icon\":\"c04n\"},\"temp\":6.6,\"app_temp\":4.7,\"snow\":0,\"solar_rad\":0,\"pop\":0,\"ozone\":299.3,\"wind_cdir\":\"NNE\",\"rh\":98,\"pod\":\"n\",\"clouds_mid\":0,\"pres\":1000.5,\"snow_depth\":0,\"clouds_low\":100,\"clouds\":100,\"vis\":3.928,\"wind_gust_spd\":3.82,\"wind_spd\":2.67,\"ghi\":0,\"wind_cdir_full\":\"north-northeast\",\"slp\":1008.5,\"datetime\":\"2023-03-13:06\",\"ts\":1678687200,\"wind_dir\":15,\"dni\":0,\"dewpt\":6.3,\"uv\":0,\"clouds_hi\":39,\"timestamp_utc\":\"2023-03-13T06:00:00\",\"timestamp_local\":\"2023-03-13T02:00:00\",\"dhi\":0,\"precip\":0},{\"weather\":{\"description\":\"Overcast clouds\",\"code\":804,\"icon\":\"c04n\"},\"temp\":6.2,\"app_temp\":3.1,\"snow\":0,\"solar_rad\":0,\"pop\":10,\"ozone\":299.8,\"wind_cdir\":\"NNW\",\"rh\":97,\"pod\":\"n\",\"clouds_mid\":0,\"pres\":1000,\"snow_depth\":0,\"clouds_low\":100,\"clouds\":100,\"vis\":11.536,\"wind_gust_spd\":7.82,\"wind_spd\":4.46,\"ghi\":0,\"wind_cdir_full\":\"north-northwest\",\"slp\":1008.5,\"datetime\":\"2023-03-13:09\",\"ts\":1678698000,\"wind_dir\":347,\"dni\":0,\"dewpt\":5.8,\"uv\":0,\"clouds_hi\":43,\"timestamp_utc\":\"2023-03-13T09:00:00\",\"timestamp_local\":\"2023-03-13T05:00:00\",\"dhi\":0,\"precip\":0.0625},{\"weather\":{\"description\":\"Overcast clouds\",\"code\":804,\"icon\":\"c04d\"},\"temp\":5.8,\"app_temp\":2.4,\"snow\":0,\"solar_rad\":48.343884,\"pop\":0,\"ozone\":310,\"wind_cdir\":\"NNW\",\"rh\":96,\"pod\":\"d\",\"clouds_mid\":0,\"pres\":1002,\"snow_depth\":0,\"clouds_low\":99,\"clouds\":99,\"vis\":22.768,\"wind_gust_spd\":11,\"wind_spd\":4.97,\"ghi\":65.46,\"wind_cdir_full\":\"north-northwest\",\"slp\":1010.5,\"datetime\":\"2023-03-13:12\",\"ts\":1678708800,\"wind_dir\":340,\"dni\":341.74,\"dewpt\":5.2,\"uv\":0.5,\"clouds_hi\":0,\"timestamp_utc\":\"2023-03-13T12:00:00\",\"timestamp_local\":\"2023-03-13T08:00:00\",\"dhi\":39.21,\"precip\":0},{\"weather\":{\"description\":\"Few clouds\",\"code\":801,\"icon\":\"c02d\"},\"temp\":9.5,\"app_temp\":9.5,\"snow\":0,\"solar_rad\":643.08356,\"pop\":0,\"ozone\":308.8,\"wind_cdir\":\"NNW\",\"rh\":73,\"pod\":\"d\",\"clouds_mid\":0,\"pres\":1004,\"snow_depth\":0,\"clouds_low\":4,\"clouds\":4,\"vis\":24.128,\"wind_gust_spd\":10.41,\"wind_spd\":6.89,\"ghi\":643.09,\"wind_cdir_full\":\"north-northwest\",\"slp\":1012,\"datetime\":\"2023-03-13:15\",\"ts\":1678719600,\"wind_dir\":331,\"dni\":857.23,\"dewpt\":4.9,\"uv\":4.3,\"clouds_hi\":0,\"timestamp_utc\":\"2023-03-13T15:00:00\",\"timestamp_local\":\"2023-03-13T11:00:00\",\"dhi\":106.68,\"precip\":0},{\"weather\":{\"description\":\"Few clouds\",\"code\":801,\"icon\":\"c02d\"},\"temp\":13,\"app_temp\":13,\"snow\":0,\"solar_rad\":817.797,\"pop\":0,\"ozone\":307,\"wind_cdir\":\"NW\",\"rh\":57,\"pod\":\"d\",\"clouds_mid\":0,\"pres\":1003,\"snow_depth\":0,\"clouds_low\":3,\"clouds\":3,\"vis\":24.128,\"wind_gust_spd\":8,\"wind_spd\":6.68,\"ghi\":817.8,\"wind_cdir_full\":\"northwest\",\"slp\":1011,\"datetime\":\"2023-03-13:18\",\"ts\":1678730400,\"wind_dir\":322,\"dni\":911.83,\"dewpt\":4.7,\"uv\":6.5,\"clouds_hi\":5,\"timestamp_utc\":\"2023-03-13T18:00:00\",\"timestamp_local\":\"2023-03-13T14:00:00\",\"dhi\":117.35,\"precip\":0},{\"weather\":{\"description\":\"Few clouds\",\"code\":801,\"icon\":\"c02d\"},\"temp\":11.6,\"app_temp\":11.6,\"snow\":0,\"solar_rad\":424.80612,\"pop\":0,\"ozone\":307.8,\"wind_cdir\":\"NW\",\"rh\":51,\"pod\":\"d\",\"clouds_mid\":0,\"pres\":1004.5,\"snow_depth\":0,\"clouds_low\":5,\"clouds\":11,\"vis\":24.128,\"wind_gust_spd\":9.9,\"wind_spd\":7.85,\"ghi\":424.99,\"wind_cdir_full\":\"northwest\",\"slp\":1012.5,\"datetime\":\"2023-03-13:21\",\"ts\":1678741200,\"wind_dir\":316,\"dni\":760.38,\"dewpt\":1.9,\"uv\":2.4,\"clouds_hi\":42,\"timestamp_utc\":\"2023-03-13T21:00:00\",\"timestamp_local\":\"2023-03-13T17:00:00\",\"dhi\":90.07,\"precip\":0},{\"weather\":{\"description\":\"Few clouds\",\"code\":801,\"icon\":\"c02n\"},\"temp\":8,\"app_temp\":8,\"snow\":0,\"solar_rad\":0,\"pop\":0,\"ozone\":310.8,\"wind_cdir\":\"NNW\",\"rh\":59,\"pod\":\"n\",\"clouds_mid\":0,\"pres\":1006,\"snow_depth\":0,\"clouds_low\":0,\"clouds\":13,\"vis\":24.128,\"wind_gust_spd\":13.1,\"wind_spd\":6.4,\"ghi\":0,\"wind_cdir_full\":\"north-northwest\",\"slp\":1014.5,\"datetime\":\"2023-03-14:00\",\"ts\":1678752000,\"wind_dir\":334,\"dni\":0,\"dewpt\":0.5,\"uv\":0,\"clouds_hi\":51,\"timestamp_utc\":\"2023-03-14T00:00:00\",\"timestamp_local\":\"2023-03-13T20:00:00\",\"dhi\":0,\"precip\":0},{\"weather\":{\"description\":\"Scattered clouds\",\"code\":802,\"icon\":\"c02n\"},\"temp\":6.6,\"app_temp\":2.7,\"snow\":0,\"solar_rad\":0,\"pop\":0,\"ozone\":312.8,\"wind_cdir\":\"NNW\",\"rh\":58,\"pod\":\"n\",\"clouds_mid\":0,\"pres\":1008,\"snow_depth\":0,\"clouds_low\":0,\"clouds\":25,\"vis\":24.128,\"wind_gust_spd\":13.09,\"wind_spd\":6.4,\"ghi\":0,\"wind_cdir_full\":\"north-northwest\",\"slp\":1016,\"datetime\":\"2023-03-14:03\",\"ts\":1678762800,\"wind_dir\":336,\"dni\":0,\"dewpt\":-1.1,\"uv\":0,\"clouds_hi\":100,\"timestamp_utc\":\"2023-03-14T03:00:00\",\"timestamp_local\":\"2023-03-13T23:00:00\",\"dhi\":0,\"precip\":0},{\"weather\":{\"description\":\"Few clouds\",\"code\":801,\"icon\":\"c02n\"},\"temp\":3.6,\"app_temp\":-0.7,\"snow\":0,\"solar_rad\":0,\"pop\":0,\"ozone\":314.8,\"wind_cdir\":\"NNW\",\"rh\":69,\"pod\":\"n\",\"clouds_mid\":0,\"pres\":1009,\"snow_depth\":0,\"clouds_low\":5,\"clouds\":5,\"vis\":24.128,\"wind_gust_spd\":12.2,\"wind_spd\":5.57,\"ghi\":0,\"wind_cdir_full\":\"north-northwest\",\"slp\":1017.5,\"datetime\":\"2023-03-14:06\",\"ts\":1678773600,\"wind_dir\":336,\"dni\":0,\"dewpt\":-1.6,\"uv\":0,\"clouds_hi\":5,\"timestamp_utc\":\"2023-03-14T06:00:00\",\"timestamp_local\":\"2023-03-14T02:00:00\",\"dhi\":0,\"precip\":0},{\"weather\":{\"description\":\"Few clouds\",\"code\":801,\"icon\":\"c02n\"},\"temp\":1.5,\"app_temp\":-3.1,\"snow\":0,\"solar_rad\":0,\"pop\":0,\"ozone\":325.5,\"wind_cdir\":\"NW\",\"rh\":66,\"pod\":\"n\",\"clouds_mid\":0,\"pres\":1009.5,\"snow_depth\":0,\"clouds_low\":2,\"clouds\":2,\"vis\":24.128,\"wind_gust_spd\":10.91,\"wind_spd\":5.1,\"ghi\":0,\"wind_cdir_full\":\"northwest\",\"slp\":1018,\"datetime\":\"2023-03-14:09\",\"ts\":1678784400,\"wind_dir\":323,\"dni\":0,\"dewpt\":-4.1,\"uv\":0,\"clouds_hi\":0,\"timestamp_utc\":\"2023-03-14T09:00:00\",\"timestamp_local\":\"2023-03-14T05:00:00\",\"dhi\":0,\"precip\":0},{\"weather\":{\"description\":\"Clear Sky\",\"code\":800,\"icon\":\"c01d\"},\"temp\":0.3,\"app_temp\":-4,\"snow\":0,\"solar_rad\":69.66,\"pop\":0,\"ozone\":327,\"wind_cdir\":\"NW\",\"rh\":70,\"pod\":\"d\",\"clouds_mid\":0,\"pres\":1011,\"snow_depth\":0,\"clouds_low\":1,\"clouds\":1,\"vis\":24.128,\"wind_gust_spd\":11.72,\"wind_spd\":4.21,\"ghi\":69.66,\"wind_cdir_full\":\"northwest\",\"slp\":1019.5,\"datetime\":\"2023-03-14:12\",\"ts\":1678795200,\"wind_dir\":307,\"dni\":353.62,\"dewpt\":-4.5,\"uv\":1.5,\"clouds_hi\":0,\"timestamp_utc\":\"2023-03-14T12:00:00\",\"timestamp_local\":\"2023-03-14T08:00:00\",\"dhi\":40.35,\"precip\":0},{\"weather\":{\"description\":\"Clear Sky\",\"code\":800,\"icon\":\"c01d\"},\"temp\":6.1,\"app_temp\":2.3,\"snow\":0,\"solar_rad\":648.48,\"pop\":0,\"ozone\":331.8,\"wind_cdir\":\"NW\",\"rh\":46,\"pod\":\"d\",\"clouds_mid\":0,\"pres\":1011.5,\"snow_depth\":0,\"clouds_low\":0,\"clouds\":0,\"vis\":24.128,\"wind_gust_spd\":8.42,\"wind_spd\":6.09,\"ghi\":648.48,\"wind_cdir_full\":\"northwest\",\"slp\":1020,\"datetime\":\"2023-03-14:15\",\"ts\":1678806000,\"wind_dir\":318,\"dni\":858.79,\"dewpt\":-4.6,\"uv\":4.4,\"clouds_hi\":0,\"timestamp_utc\":\"2023-03-14T15:00:00\",\"timestamp_local\":\"2023-03-14T11:00:00\",\"dhi\":107,\"precip\":0},{\"weather\":{\"description\":\"Few clouds\",\"code\":801,\"icon\":\"c02d\"},\"temp\":9.5,\"app_temp\":9.5,\"snow\":0,\"solar_rad\":822.3521,\"pop\":0,\"ozone\":338,\"wind_cdir\":\"NW\",\"rh\":37,\"pod\":\"d\",\"clouds_mid\":0,\"pres\":1010.5,\"snow_depth\":0,\"clouds_low\":5,\"clouds\":5,\"vis\":24.128,\"wind_gust_spd\":10.62,\"wind_spd\":7.78,\"ghi\":822.38,\"wind_cdir_full\":\"northwest\",\"slp\":1018.5,\"datetime\":\"2023-03-14:18\",\"ts\":1678816800,\"wind_dir\":308,\"dni\":912.69,\"dewpt\":-4.4,\"uv\":6.4,\"clouds_hi\":0,\"timestamp_utc\":\"2023-03-14T18:00:00\",\"timestamp_local\":\"2023-03-14T14:00:00\",\"dhi\":117.57,\"precip\":0},{\"weather\":{\"description\":\"Broken clouds\",\"code\":803,\"icon\":\"c03d\"},\"temp\":8.9,\"app_temp\":8.9,\"snow\":0,\"solar_rad\":379.0331,\"pop\":0,\"ozone\":340.8,\"wind_cdir\":\"NW\",\"rh\":36,\"pod\":\"d\",\"clouds_mid\":0,\"pres\":1010,\"snow_depth\":0,\"clouds_low\":55,\"clouds\":55,\"vis\":24.128,\"wind_gust_spd\":12.02,\"wind_spd\":8.77,\"ghi\":428.59,\"wind_cdir_full\":\"northwest\",\"slp\":1018.5,\"datetime\":\"2023-03-14:21\",\"ts\":1678827600,\"wind_dir\":312,\"dni\":762.08,\"dewpt\":-5.3,\"uv\":1.6,\"clouds_hi\":0,\"timestamp_utc\":\"2023-03-14T21:00:00\",\"timestamp_local\":\"2023-03-14T17:00:00\",\"dhi\":90.35,\"precip\":0},{\"weather\":{\"description\":\"Clear Sky\",\"code\":800,\"icon\":\"c01n\"},\"temp\":5.6,\"app_temp\":1.7,\"snow\":0,\"solar_rad\":0,\"pop\":0,\"ozone\":337.5,\"wind_cdir\":\"NW\",\"rh\":46,\"pod\":\"n\",\"clouds_mid\":0,\"pres\":1012,\"snow_depth\":0,\"clouds_low\":0,\"clouds\":0,\"vis\":24.128,\"wind_gust_spd\":10.7,\"wind_spd\":5.96,\"ghi\":0,\"wind_cdir_full\":\"northwest\",\"slp\":1020,\"datetime\":\"2023-03-15:00\",\"ts\":1678838400,\"wind_dir\":318,\"dni\":0,\"dewpt\":-5.1,\"uv\":0,\"clouds_hi\":0,\"timestamp_utc\":\"2023-03-15T00:00:00\",\"timestamp_local\":\"2023-03-14T20:00:00\",\"dhi\":0,\"precip\":0},{\"weather\":{\"description\":\"Clear Sky\",\"code\":800,\"icon\":\"c01n\"},\"temp\":3.5,\"app_temp\":-1.4,\"snow\":0,\"solar_rad\":0,\"pop\":0,\"ozone\":334.8,\"wind_cdir\":\"NW\",\"rh\":49,\"pod\":\"n\",\"clouds_mid\":0,\"pres\":1013.5,\"snow_depth\":0,\"clouds_low\":0,\"clouds\":0,\"vis\":24.128,\"wind_gust_spd\":11.61,\"wind_spd\":6.76,\"ghi\":0,\"wind_cdir_full\":\"northwest\",\"slp\":1022,\"datetime\":\"2023-03-15:03\",\"ts\":1678849200,\"wind_dir\":323,\"dni\":0,\"dewpt\":-6.2,\"uv\":0,\"clouds_hi\":0,\"timestamp_utc\":\"2023-03-15T03:00:00\",\"timestamp_local\":\"2023-03-14T23:00:00\",\"dhi\":0,\"precip\":0},{\"weather\":{\"description\":\"Clear Sky\",\"code\":800,\"icon\":\"c01n\"},\"temp\":1.5,\"app_temp\":-3.4,\"snow\":0,\"solar_rad\":0,\"pop\":0,\"ozone\":331.5,\"wind_cdir\":\"NW\",\"rh\":56,\"pod\":\"n\",\"clouds_mid\":0,\"pres\":1014,\"snow_depth\":0,\"clouds_low\":0,\"clouds\":1,\"vis\":24.128,\"wind_gust_spd\":12.1,\"wind_spd\":5.57,\"ghi\":0,\"wind_cdir_full\":\"northwest\",\"slp\":1022.5,\"datetime\":\"2023-03-15:06\",\"ts\":1678860000,\"wind_dir\":315,\"dni\":0,\"dewpt\":-6.3,\"uv\":0,\"clouds_hi\":2,\"timestamp_utc\":\"2023-03-15T06:00:00\",\"timestamp_local\":\"2023-03-15T02:00:00\",\"dhi\":0,\"precip\":0}],\"city_name\":\"Four Oaks\",\"lat\":35.5,\"state_code\":\"NC\"}\n",
      "\n"
     ]
    }
   ],
   "source": [
    "import requests\n",
    "\n",
    "url = \"https://weatherbit-v1-mashape.p.rapidapi.com/forecast/3hourly\"\n",
    "\n",
    "querystring = {\"lat\":\"35.5\",\"lon\":\"-78.5\"}\n",
    "\n",
    "headers = {\n",
    "\t\"X-RapidAPI-Key\": \"5a4e151c20msh643afa37e7b65c4p1286bbjsnb34fa51130a0\",\n",
    "\t\"X-RapidAPI-Host\": \"weatherbit-v1-mashape.p.rapidapi.com\"\n",
    "}\n",
    "\n",
    "response = requests.request(\"GET\", url, headers=headers, params=querystring)\n",
    "\n",
    "print(response.text)"
   ]
  },
  {
   "cell_type": "code",
   "execution_count": 32,
   "id": "16ae449e",
   "metadata": {},
   "outputs": [],
   "source": [
    "df = pd.DataFrame(response.json()['data'])"
   ]
  },
  {
   "cell_type": "code",
   "execution_count": 33,
   "id": "203cfa77",
   "metadata": {},
   "outputs": [
    {
     "data": {
      "text/plain": [
       "(40, 32)"
      ]
     },
     "execution_count": 33,
     "metadata": {},
     "output_type": "execute_result"
    }
   ],
   "source": [
    "df.shape"
   ]
  },
  {
   "cell_type": "code",
   "execution_count": 35,
   "id": "cd5300a3",
   "metadata": {},
   "outputs": [],
   "source": [
    "from bs4 import BeautifulSoup"
   ]
  },
  {
   "cell_type": "code",
   "execution_count": 46,
   "id": "ed01693d",
   "metadata": {},
   "outputs": [],
   "source": [
    "url = 'https://en.wikipedia.org/wiki/COVID-19'"
   ]
  },
  {
   "cell_type": "code",
   "execution_count": 51,
   "id": "c6842b23",
   "metadata": {},
   "outputs": [],
   "source": [
    "#define the url\n",
    "url = 'https://learn.ineuron.ai/course-analytics/Full-Stack-Data-Analytics/62820c02489b469a75a1412e'\n",
    "#send a get request and reterive the html content\n",
    "response = requests.get(url)\n",
    "content = response.content\n",
    "#parse the content\n",
    "soup = BeautifulSoup(content, 'html.parser')\n",
    "#find html tags that contains the data that we want to extract\n",
    "data = soup.find_all('h1')"
   ]
  },
  {
   "cell_type": "code",
   "execution_count": 52,
   "id": "c9058099",
   "metadata": {},
   "outputs": [],
   "source": [
    "#extract the data\n",
    "for item in data:\n",
    "    data_text = item.text\n",
    "    print(data_text)"
   ]
  },
  {
   "cell_type": "code",
   "execution_count": 56,
   "id": "a0e5a864",
   "metadata": {},
   "outputs": [
    {
     "data": {
      "text/plain": [
       "[]"
      ]
     },
     "execution_count": 56,
     "metadata": {},
     "output_type": "execute_result"
    }
   ],
   "source": [
    "soup.find_all('p')"
   ]
  },
  {
   "cell_type": "code",
   "execution_count": null,
   "id": "aea87e70",
   "metadata": {},
   "outputs": [],
   "source": []
  }
 ],
 "metadata": {
  "kernelspec": {
   "display_name": "Python 3 (ipykernel)",
   "language": "python",
   "name": "python3"
  },
  "language_info": {
   "codemirror_mode": {
    "name": "ipython",
    "version": 3
   },
   "file_extension": ".py",
   "mimetype": "text/x-python",
   "name": "python",
   "nbconvert_exporter": "python",
   "pygments_lexer": "ipython3",
   "version": "3.9.12"
  }
 },
 "nbformat": 4,
 "nbformat_minor": 5
}
