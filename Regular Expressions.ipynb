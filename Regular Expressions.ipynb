{
 "cells": [
  {
   "cell_type": "code",
   "execution_count": 3,
   "id": "31aef5ac",
   "metadata": {},
   "outputs": [],
   "source": [
    "import re"
   ]
  },
  {
   "cell_type": "code",
   "execution_count": 2,
   "id": "2f54c99f",
   "metadata": {},
   "outputs": [
    {
     "data": {
      "text/plain": [
       "'Note 1 - Overview\\nTesla, Inc. (“Tesla”, the “Company”, “we”, “us” or “our”) was incorporated in the State of Delaware on July 1, 2003. We design, develop, manufacture and sell high-performance fully electric vehicles and design, manufacture, install and sell solar energy generation and energy storage\\nproducts. Our Chief Executive Officer, as the chief operating decision maker (“CODM”), organizes our company, manages resource allocations and measures performance among two operating and reportable segments: (i) automotive and (ii) energy generation and storage.\\nBeginning in the first quarter of 2021, there has been a trend in many parts of the world of increasing availability and administration of vaccines\\nagainst COVID-19, as well as an easing of restrictions on social, business, travel and government activities and functions. On the other hand, infection\\nrates and regulations continue to fluctuate in various regions and there are ongoing global impacts resulting from the pandemic, including challenges\\nand increases in costs for logistics and supply chains, such as increased port congestion, intermittent supplier delays and a shortfall of semiconductor\\nsupply. We have also previously been affected by temporary manufacturing closures, employment and compensation adjustments and impediments to\\nadministrative activities supporting our product deliveries and deployments.\\nNote 2 - Summary of Significant Accounting Policies\\nUnaudited Interim Financial Statements\\nThe consolidated balance sheet as of September 30, 2021, the consolidated statements of operations, the consolidated statements of\\ncomprehensive income, the consolidated statements of redeemable noncontrolling interests and equity for the three and nine months ended September\\n30, 2021 and 2020 and the consolidated statements of cash flows for the nine months ended September 30, 2021 and 2020, as well as other information\\ndisclosed in the accompanying notes, are unaudited. The consolidated balance sheet as of December 31, 2020 was derived from the audited\\nconsolidated financial statements as of that date. The interim consolidated financial statements and the accompanying notes should be read in\\nconjunction with the annual consolidated financial statements and the accompanying notes contained in our Annual Report on Form 10-K for the year\\nended December 31, 2020.'"
      ]
     },
     "execution_count": 2,
     "metadata": {},
     "output_type": "execute_result"
    }
   ],
   "source": [
    "text = '''Note 1 - Overview\n",
    "Tesla, Inc. (“Tesla”, the “Company”, “we”, “us” or “our”) was incorporated in the State of Delaware on July 1, 2003. We design, develop, manufacture and sell high-performance fully electric vehicles and design, manufacture, install and sell solar energy generation and energy storage\n",
    "products. Our Chief Executive Officer, as the chief operating decision maker (“CODM”), organizes our company, manages resource allocations and measures performance among two operating and reportable segments: (i) automotive and (ii) energy generation and storage.\n",
    "Beginning in the first quarter of 2021, there has been a trend in many parts of the world of increasing availability and administration of vaccines\n",
    "against COVID-19, as well as an easing of restrictions on social, business, travel and government activities and functions. On the other hand, infection\n",
    "rates and regulations continue to fluctuate in various regions and there are ongoing global impacts resulting from the pandemic, including challenges\n",
    "and increases in costs for logistics and supply chains, such as increased port congestion, intermittent supplier delays and a shortfall of semiconductor\n",
    "supply. We have also previously been affected by temporary manufacturing closures, employment and compensation adjustments and impediments to\n",
    "administrative activities supporting our product deliveries and deployments.\n",
    "Note 2 - Summary of Significant Accounting Policies\n",
    "Unaudited Interim Financial Statements\n",
    "The consolidated balance sheet as of September 30, 2021, the consolidated statements of operations, the consolidated statements of\n",
    "comprehensive income, the consolidated statements of redeemable noncontrolling interests and equity for the three and nine months ended September\n",
    "30, 2021 and 2020 and the consolidated statements of cash flows for the nine months ended September 30, 2021 and 2020, as well as other information\n",
    "disclosed in the accompanying notes, are unaudited. The consolidated balance sheet as of December 31, 2020 was derived from the audited\n",
    "consolidated financial statements as of that date. The interim consolidated financial statements and the accompanying notes should be read in\n",
    "conjunction with the annual consolidated financial statements and the accompanying notes contained in our Annual Report on Form 10-K for the year\n",
    "ended December 31, 2020.'''\n",
    "text"
   ]
  },
  {
   "cell_type": "code",
   "execution_count": 4,
   "id": "9585baf3",
   "metadata": {},
   "outputs": [
    {
     "data": {
      "text/plain": [
       "['Overview', 'Summary of Significant Accounting Policies']"
      ]
     },
     "execution_count": 4,
     "metadata": {},
     "output_type": "execute_result"
    }
   ],
   "source": [
    "pattern = 'Note \\d - ([^\\n]+)'\n",
    "headings = re.findall(pattern,text)\n",
    "headings"
   ]
  },
  {
   "cell_type": "code",
   "execution_count": 5,
   "id": "3cdd34f0",
   "metadata": {},
   "outputs": [],
   "source": [
    "text = '''\n",
    "The gross cost of operating lease vehicles in FY2021 Q1 was $4.85 billion.\n",
    "In previous quarter i.e. FY2020 Q4 it was $3 billion. \n",
    "'''"
   ]
  },
  {
   "cell_type": "code",
   "execution_count": 7,
   "id": "0645a950",
   "metadata": {},
   "outputs": [
    {
     "data": {
      "text/plain": [
       "['FY2021 Q1', 'FY2020 Q4']"
      ]
     },
     "execution_count": 7,
     "metadata": {},
     "output_type": "execute_result"
    }
   ],
   "source": [
    "pattern = 'FY\\d{4} Q[1234]'\n",
    "fy_year = re.findall(pattern, text)\n",
    "fy_year"
   ]
  },
  {
   "cell_type": "code",
   "execution_count": 9,
   "id": "2cc90df1",
   "metadata": {},
   "outputs": [],
   "source": [
    "#ignore case"
   ]
  },
  {
   "cell_type": "code",
   "execution_count": 14,
   "id": "b371cf89",
   "metadata": {},
   "outputs": [
    {
     "data": {
      "text/plain": [
       "['FY2021 Q1', 'FY2020 Q4']"
      ]
     },
     "execution_count": 14,
     "metadata": {},
     "output_type": "execute_result"
    }
   ],
   "source": [
    "fy = re.findall(pattern, text, flags = re.IGNORECASE)\n",
    "fy"
   ]
  },
  {
   "cell_type": "code",
   "execution_count": 15,
   "id": "bf943e62",
   "metadata": {},
   "outputs": [
    {
     "data": {
      "text/plain": [
       "['$4.85', '$3']"
      ]
     },
     "execution_count": 15,
     "metadata": {},
     "output_type": "execute_result"
    }
   ],
   "source": [
    "pattern = '\\$[\\d\\.]+'\n",
    "re.findall(pattern, text)"
   ]
  },
  {
   "cell_type": "code",
   "execution_count": 18,
   "id": "77112c50",
   "metadata": {},
   "outputs": [
    {
     "data": {
      "text/plain": [
       "['FY2021 Q1', '$4.85', 'FY2020 Q4', '$3']"
      ]
     },
     "execution_count": 18,
     "metadata": {},
     "output_type": "execute_result"
    }
   ],
   "source": [
    "pattern = 'FY\\d{4} Q[1-4]|\\$[\\d\\.]+'\n",
    "re.findall(pattern, text, flags = re.IGNORECASE)"
   ]
  },
  {
   "cell_type": "code",
   "execution_count": 19,
   "id": "d316fc40",
   "metadata": {},
   "outputs": [
    {
     "data": {
      "text/plain": [
       "[('2021 Q1', '4.85'), ('2020 Q4', '3')]"
      ]
     },
     "execution_count": 19,
     "metadata": {},
     "output_type": "execute_result"
    }
   ],
   "source": [
    "pattern = 'FY(\\d{4} Q[1-4]) [^\\$]+\\$([\\d\\.]+)'\n",
    "re.findall(pattern, text)"
   ]
  },
  {
   "cell_type": "markdown",
   "id": "5037e9c2",
   "metadata": {},
   "source": [
    "Extract all twitter handles from following text. Twitter handle is the text that appears after https://twitter.com/ and is a single word. Also it contains only alpha numeric characters i.e. A-Z a-z , o to 9 and underscore _"
   ]
  },
  {
   "cell_type": "code",
   "execution_count": 20,
   "id": "c32796ea",
   "metadata": {},
   "outputs": [
    {
     "data": {
      "text/plain": [
       "['https://twitter.com/elonmusk',\n",
       " 'https://twitter.com/teslarati',\n",
       " 'https://twitter.com/dummy_tesla',\n",
       " 'https://twitter.com/dummy_2_tesla']"
      ]
     },
     "execution_count": 20,
     "metadata": {},
     "output_type": "execute_result"
    }
   ],
   "source": [
    "text = '''\n",
    "Follow our leader Elon musk on twitter here: https://twitter.com/elonmusk, more information \n",
    "on Tesla's products can be found at https://www.tesla.com/. Also here are leading influencers \n",
    "for tesla related news,\n",
    "https://twitter.com/teslarati\n",
    "https://twitter.com/dummy_tesla\n",
    "https://twitter.com/dummy_2_tesla\n",
    "'''\n",
    "pattern = 'https:\\/\\/twitter.com\\/[a-zA-Z0-9_]+' \n",
    "\n",
    "re.findall(pattern, text)"
   ]
  },
  {
   "cell_type": "markdown",
   "id": "8061c9e1",
   "metadata": {},
   "source": [
    "Extract Concentration Risk Types. It will be a text that appears after \"Concentration Risk:\", In below example, your regex should extract these two strings\n"
   ]
  },
  {
   "cell_type": "code",
   "execution_count": 22,
   "id": "1235ed66",
   "metadata": {},
   "outputs": [
    {
     "data": {
      "text/plain": [
       "['Credit Risk', 'Supply Risk']"
      ]
     },
     "execution_count": 22,
     "metadata": {},
     "output_type": "execute_result"
    }
   ],
   "source": [
    "text = '''\n",
    "Concentration of Risk: Credit Risk\n",
    "Financial instruments that potentially subject us to a concentration of credit risk consist of cash, cash equivalents, marketable securities,\n",
    "restricted cash, accounts receivable, convertible note hedges, and interest rate swaps. Our cash balances are primarily invested in money market funds\n",
    "or on deposit at high credit quality financial institutions in the U.S. These deposits are typically in excess of insured limits. As of September 30, 2021\n",
    "and December 31, 2020, no entity represented 10% or more of our total accounts receivable balance. The risk of concentration for our convertible note\n",
    "hedges and interest rate swaps is mitigated by transacting with several highly-rated multinational banks.\n",
    "Concentration of Risk: Supply Risk\n",
    "We are dependent on our suppliers, including single source suppliers, and the inability of these suppliers to deliver necessary components of our\n",
    "products in a timely manner at prices, quality levels and volumes acceptable to us, or our inability to efficiently manage these components from these\n",
    "suppliers, could have a material adverse effect on our business, prospects, financial condition and operating results.\n",
    "'''\n",
    "pattern = 'Concentration of Risk: ([a-zA-Z ]+)'\n",
    "re.findall(pattern,text)"
   ]
  },
  {
   "cell_type": "code",
   "execution_count": null,
   "id": "ec187480",
   "metadata": {},
   "outputs": [],
   "source": []
  },
  {
   "cell_type": "code",
   "execution_count": 23,
   "id": "62ef9e9d",
   "metadata": {},
   "outputs": [
    {
     "data": {
      "text/plain": [
       "['2021 Q1', '2021 S1']"
      ]
     },
     "execution_count": 23,
     "metadata": {},
     "output_type": "execute_result"
    }
   ],
   "source": [
    "text = '''\n",
    "Tesla's gross cost of operating lease vehicles in FY2021 Q1 was $4.85 billion.\n",
    "BMW's gross cost of operating vehicles in FY2021 S1 was $8 billion.\n",
    "'''\n",
    "\n",
    "pattern = 'FY(\\d{4} (?:Q[1-4]|S[1-2]))' # todo: type your regex here\n",
    "matches = re.findall(pattern, text)\n",
    "matches"
   ]
  },
  {
   "cell_type": "code",
   "execution_count": 1,
   "id": "cae35893",
   "metadata": {},
   "outputs": [],
   "source": [
    "chat1='codebasics: Hello, I am having an issue with my order # 412889912'\n",
    "chat2='codebasics: I have a problem with my order number 412889912'\n",
    "chat3='codebasics: My order 412889912 is having an issue, I was charged 300$ when online it says 280$'"
   ]
  },
  {
   "cell_type": "code",
   "execution_count": 4,
   "id": "64118bbe",
   "metadata": {},
   "outputs": [
    {
     "data": {
      "text/plain": [
       "['412889912']"
      ]
     },
     "execution_count": 4,
     "metadata": {},
     "output_type": "execute_result"
    }
   ],
   "source": [
    "#extrating order number\n",
    "pattern = 'order[^\\d]*(\\d{9})'\n",
    "re.findall(pattern,chat1)"
   ]
  },
  {
   "cell_type": "code",
   "execution_count": 5,
   "id": "8e7d7b7f",
   "metadata": {},
   "outputs": [],
   "source": [
    "#extracting phone number and email id\n",
    "chat1 = 'codebasics: you ask lot of questions 😠  1235678912, abc@xyz.com'\n",
    "chat2 = 'codebasics: here it is: (123)-567-8912, abc@xyz.com'\n",
    "chat3 = 'codebasics: yes, phone: 1235678912 email: abc@xyz.com'"
   ]
  },
  {
   "cell_type": "code",
   "execution_count": 10,
   "id": "7501714c",
   "metadata": {},
   "outputs": [
    {
     "name": "stdout",
     "output_type": "stream",
     "text": [
      "['1235678912'] ['abc@xyz.com']\n",
      "['(123)-567-8912'] ['abc@xyz.com']\n",
      "['1235678912'] ['abc@xyz.com']\n"
     ]
    }
   ],
   "source": [
    "pattern = '\\(\\d{3}\\)-\\d{3}-\\d{4}|\\d{10}'\n",
    "pattern1 = '[a-zA-Z0-9_]*@[a-zA-Z]*\\.[a-z]*'\n",
    "print(re.findall(pattern, chat1), re.findall(pattern1, chat1))\n",
    "print(re.findall(pattern, chat2), re.findall(pattern1, chat2))\n",
    "print(re.findall(pattern, chat3), re.findall(pattern1, chat3))"
   ]
  },
  {
   "cell_type": "code",
   "execution_count": 16,
   "id": "bc713c22",
   "metadata": {},
   "outputs": [],
   "source": [
    "def get_pattern_match(pattern, text):\n",
    "    match = re.findall(pattern, text)\n",
    "    return match"
   ]
  },
  {
   "cell_type": "code",
   "execution_count": 17,
   "id": "3aa18412",
   "metadata": {},
   "outputs": [
    {
     "data": {
      "text/plain": [
       "['1235678912']"
      ]
     },
     "execution_count": 17,
     "metadata": {},
     "output_type": "execute_result"
    }
   ],
   "source": [
    "get_pattern_match('\\d{3}\\)-\\d{3}-\\d{4}|\\d{10}', chat1)"
   ]
  },
  {
   "cell_type": "code",
   "execution_count": 20,
   "id": "fc4d7a41",
   "metadata": {},
   "outputs": [],
   "source": [
    "def get_all_info(text):\n",
    "    phone_number = get_pattern_match('\\d{3}\\)-\\d{3}-\\d{4}|\\d{10}', chat1)\n",
    "    email_id = get_pattern_match('[a-zA-Z0-9_]*@[a-zA-Z]*\\.[a-z]*', chat1)\n",
    "    \n",
    "    print('Phone Number:',phone_number)\n",
    "    print('Email Id:',email_id)"
   ]
  },
  {
   "cell_type": "code",
   "execution_count": 21,
   "id": "2b82a436",
   "metadata": {},
   "outputs": [
    {
     "name": "stdout",
     "output_type": "stream",
     "text": [
      "Phone Number: ['1235678912']\n",
      "Email Id: ['abc@xyz.com']\n"
     ]
    }
   ],
   "source": [
    "get_all_info(chat1)"
   ]
  },
  {
   "cell_type": "code",
   "execution_count": null,
   "id": "dbf2ff22",
   "metadata": {},
   "outputs": [],
   "source": []
  }
 ],
 "metadata": {
  "kernelspec": {
   "display_name": "Python 3 (ipykernel)",
   "language": "python",
   "name": "python3"
  },
  "language_info": {
   "codemirror_mode": {
    "name": "ipython",
    "version": 3
   },
   "file_extension": ".py",
   "mimetype": "text/x-python",
   "name": "python",
   "nbconvert_exporter": "python",
   "pygments_lexer": "ipython3",
   "version": "3.9.12"
  }
 },
 "nbformat": 4,
 "nbformat_minor": 5
}
